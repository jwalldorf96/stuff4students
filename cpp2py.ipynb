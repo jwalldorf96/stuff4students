{
  "nbformat": 4,
  "nbformat_minor": 0,
  "metadata": {
    "colab": {
      "provenance": [],
      "gpuType": "T4",
      "toc_visible": true,
      "authorship_tag": "ABX9TyPjXVgAIqPaIM+THROFn5do",
      "include_colab_link": true
    },
    "kernelspec": {
      "name": "python3",
      "display_name": "Python 3"
    },
    "language_info": {
      "name": "python"
    }
  },
  "cells": [
    {
      "cell_type": "markdown",
      "metadata": {
        "id": "view-in-github",
        "colab_type": "text"
      },
      "source": [
        "<a href=\"https://colab.research.google.com/github/wwalbrecht/stuff4students/blob/main/cpp2py.ipynb\" target=\"_parent\"><img src=\"https://colab.research.google.com/assets/colab-badge.svg\" alt=\"Open In Colab\"/></a>"
      ]
    },
    {
      "cell_type": "markdown",
      "source": [
        "Test\n",
        "# Allgemeines zur Einleitung und Initialisierung\n",
        "Bei Jupyter Notebooks https://jupyter.org/ kann Text mit Programm-Code gemischt werden.\n",
        "\n",
        "Damit sie zur Ausführung keine lokalen Installationen benötigen, benutzen wir die Cloud von Google Colab https://colab.research.google.com/?hl=de. Dafür brauchen sie leider ein **Konto bei google**. Eine lokale Installation ist auch möglich, aber wegen des C++ Compilers aufwendig.\n",
        "\n",
        "\n"
      ],
      "metadata": {
        "id": "aAsX4EvQw90t"
      }
    },
    {
      "cell_type": "code",
      "source": [
        "print(\"Vorab ein kurzer Gruss von Python-Code, dem eingebauten 'Favoriten' bei Jupyter Notebooks.\")"
      ],
      "metadata": {
        "id": "NgJSWXEf1ZKf"
      },
      "execution_count": null,
      "outputs": []
    },
    {
      "cell_type": "markdown",
      "source": [
        "## Nötige Initialisierungen\n",
        "\n",
        "Für C++ müssen Installationen gemacht (und ausgeführt) werden, damit im Notebook das \"cell magic\" %%cu für den Compiler verfügbar ist. (Quelle: https://www.geeksforgeeks.org/how-to-run-cuda-c-c-on-jupyter-notebook-in-google-colaboratory/)\n",
        "\n",
        "Falls sie dieses Notebook in Colab geöffnet haben, dann führen sie jetzt diesen Code-Block aus! Zum Ausführen des Programm-Code gehen sie mit der Maus über die nächste Zelle (Code Block) und klicken auf den Pfeil (Dreieck) daneben.\n",
        "\n",
        "(Für Interessierte: Mit '!' am Anfang der Zeil werden hier Befehle an die Konsole des Servers geschickt.)"
      ],
      "metadata": {
        "id": "ra9j3V0XQJ_s"
      }
    },
    {
      "cell_type": "code",
      "source": [
        "!echo \"*** 1.)  Test if NVIDIA(R)-cuda-compiler-driver is availabe...\"\n",
        "!nvcc --version\n",
        "!echo \"*** 2.) Install extension to run nvcc ...\"\n",
        "!pip install git+https://github.com/andreinechaev/nvcc4jupyter.git\n",
        "!echo \"*** 3.) Load extension using a 'line magic %' command....\"\n",
        "%load_ext nvcc_plugin"
      ],
      "metadata": {
        "id": "fyVDClX4P3WX"
      },
      "execution_count": null,
      "outputs": []
    },
    {
      "cell_type": "markdown",
      "source": [
        "## Hello World from Jupyter Notebook\n",
        "\n",
        "Falls die Installationen geklappt haben, dann sollten sie jetzt auch folgendes ausführen können..."
      ],
      "metadata": {
        "id": "IvvCXgAEOR52"
      }
    },
    {
      "cell_type": "code",
      "source": [
        "%%cu\n",
        "//%%cu cell magic is required to use c++\n",
        "#include <iostream>\n",
        "int\tmain(void) {\n",
        "\tstd::cout << \"Welcome To C++!\\n\";\n",
        "\treturn 0;\n",
        "}"
      ],
      "metadata": {
        "id": "A3QPaCJYQBls"
      },
      "execution_count": null,
      "outputs": []
    },
    {
      "cell_type": "markdown",
      "source": [
        "> (Sehen sie statt der Ausgabe nur \"*UsageError: Cell magic `%%cu` not found.*\"?\n",
        "> Haben sie den Code-Block darüber schon ausgeführt?)\n",
        "\n",
        "> (Wundern sie sich nicht über die Unterstrich-Markierungen des Editors -- der denkt leider er hätte Python-Code vor sich.)\n",
        "\n",
        "> [Screencast zum \"C++ Hello World\"-Programm](https://video.hs-koblenz.de/Panopto/Pages/Viewer.aspx?id=664ece7c-34f3-4b88-882e-acc3015f94b9)\n",
        "(Kap01-3-HandsOn-Nr2-Hello-Teil1)"
      ],
      "metadata": {
        "id": "UlYVtFMPqh1B"
      }
    },
    {
      "cell_type": "markdown",
      "source": [
        "## Ihre ersten Aufgabe\n",
        "\n",
        "* Lassen sie ihren persönlichen Begrüßungstext ausgeben.\n",
        "* Nutzen sie using [namespace](https://cplusplus.com/doc/oldtutorial/namespaces/) für den Standard-Namensraum `std`.\n",
        "\n",
        "(Interaktive Eingaben sind hier leider nicht möglich.)\n"
      ],
      "metadata": {
        "id": "JYpBAjGm6dLA"
      }
    },
    {
      "cell_type": "code",
      "source": [
        "%%cu\n",
        "#include <iostream>\n",
        "int\tmain(void) {\n",
        "\tstd::cout << \"Welcome To C++!\\n\";\n",
        "\treturn 0;\n",
        "}"
      ],
      "metadata": {
        "id": "GDXqDlB-PnvJ"
      },
      "execution_count": null,
      "outputs": []
    },
    {
      "cell_type": "markdown",
      "source": [
        "## Hello C++ mit Klasse\n",
        "\n",
        "[Screencast dazu](https://video.hs-koblenz.de/Panopto/Pages/Viewer.aspx?id=58a3aac5-ffa4-4fab-8deb-acc3012d3ae6)\n",
        "(Kap01-3-HandsOn-Nr2-Hello-Teil3-MyClass)"
      ],
      "metadata": {
        "id": "rqA25Ukl9S7l"
      }
    },
    {
      "cell_type": "code",
      "source": [
        "%%cu\n",
        "#include <iostream>\n",
        "using namespace std;\n",
        "class MyClass{\n",
        "public:\n",
        "   void myMemberFunc(void){\n",
        "      cout << \"Hello from objects member-function!\" << endl;\n",
        "   }\n",
        "};//class\n",
        "\n",
        "int main(void)\n",
        "{\n",
        "   MyClass obj1;\n",
        "   obj1.myMemberFunc();\n",
        "}"
      ],
      "metadata": {
        "id": "UtUnyreI9Z_7"
      },
      "execution_count": null,
      "outputs": []
    },
    {
      "cell_type": "markdown",
      "source": [
        "Ändern / Experimentieren sie selbst; wiederholen sie zum Beispiel die Ausgabe und nutzen dabei:\n",
        "* einfach einen zweiten Aufruf, oder\n",
        "* ein zweites Objekt derselben Klasse, oder\n",
        "* eine weitere Klasse, oder\n",
        "* eine weitere Member-Funktion, oder..."
      ],
      "metadata": {
        "id": "WART0KnWLL6j"
      }
    },
    {
      "cell_type": "markdown",
      "source": [
        "# Beispiele zu C++ Features aus der Standard-Bibliothek\n",
        "\n",
        "*Progammiersprachen sind oftmals erfolgreich wegen ihrer mächtigen Bibliotheken oder Frameworks.*"
      ],
      "metadata": {
        "id": "Nuuz7X9CKm5g"
      }
    },
    {
      "cell_type": "markdown",
      "source": [
        "## Beispiel: Vector Container\n",
        "\n",
        "Vectoren sind die flexibleren \"großen Brüder\" von C-Arrays.\n",
        "\n",
        "[Screencast zu Vectoren](https://video.hs-koblenz.de/Panopto/Pages/Viewer.aspx?id=30fad6f7-b0f5-4e55-94af-ab8600b5d36b)\n",
        "(Kap01-4-Feature-vector)\n",
        "\n",
        "Auch wenn die Doku von und für Profis ist, sollten sie schon einmal einen kurzen Blick z.B. zur Member-Funktion \"c++ vector push_back\" werfen:\n",
        "\n",
        "* Für den Einstieg: https://www.geeksforgeeks.org/vectorpush_back-vectorpop_back-c-stl/\n",
        "* https://cplusplus.com/reference/vector/vector/push_back/ oder\n",
        "* https://en.cppreference.com/w/cpp/container/vector/push_back\n",
        "\n",
        "\n",
        "Allgemeines zu Vectoren:\n",
        "* https://www.geeksforgeeks.org/vector-in-cpp-stl/\n",
        "* https://www.programiz.com/cpp-programming/vectors\n",
        "* https://www.tutorialandexample.com/vector-in-cpp\n",
        "\n",
        "Freiwillig: Noch mehr Container Typen aus der Standard-Bibliothek:\n",
        "* https://cplusplus.com/reference/stl/\n",
        "* https://de.wikibooks.org/wiki/C%2B%2B-Programmierung/_Die_STL/_Container\n",
        "\n",
        "Oder sie starten mit dem kleinen Beispiel-Programm..."
      ],
      "metadata": {
        "id": "9KPEFlzJARk3"
      }
    },
    {
      "cell_type": "code",
      "source": [
        "%%cu\n",
        "#include <iostream>\n",
        "#include <vector>\n",
        "using namespace std;\n",
        "int\tmain(void)\n",
        "{\n",
        "  vector<int> v;\n",
        "  v.push_back(47);\n",
        "  v.push_back(11);\n",
        "  for (int i = 0; i < v.size(); i++) {\n",
        "    cout << v[i] << endl;\n",
        "  }\n",
        "  return 0;\n",
        "}"
      ],
      "metadata": {
        "id": "wcND6-uvAZBx"
      },
      "execution_count": null,
      "outputs": []
    },
    {
      "cell_type": "markdown",
      "source": [
        "### Ihre Aufgabe: Füllen sie die Lücken!"
      ],
      "metadata": {
        "id": "-ue7ExwGCNyM"
      }
    },
    {
      "cell_type": "code",
      "source": [
        "%%cu\n",
        "#include <iostream>\n",
        "#include <vector>\n",
        "using namespace std;\n",
        "int\tmain(void)\n",
        "{\n",
        "  vector<int> v;\n",
        "  for (int i = 0; i < 10; i++)\n",
        "    // TODO: 10 mal den Wert von i an v anhaengen\n",
        "    ;\n",
        "  for (int i = 0; i < v.size(); i++)\n",
        "    // TODO: jeder Wert = Wert *10\n",
        "    ;\n",
        "  cout << \"Alle Werte in v:\" << endl;\n",
        "  for (int x : v) {\n",
        "    cout << x << endl;\n",
        "  }\n",
        "  return 0;\n",
        "}"
      ],
      "metadata": {
        "id": "qixSRyozCSLd"
      },
      "execution_count": null,
      "outputs": []
    },
    {
      "cell_type": "markdown",
      "source": [
        "# Todo evtl. interessante Notebooks:\n",
        "\n",
        "\n",
        "https://colab.research.google.com/github/hussain0048/C-Plus-Plus/blob/master/Basic_of_C%2B%2B.ipynb#scrollTo=UNIfawb86g7J\n",
        "\n",
        "https://colab.research.google.com/github/Tanu-N-Prabhu/Python/blob/master/Cheat_sheet_for_Google_Colab.ipynb\n",
        "\n",
        "https://www.tutorialspoint.com/google_colab/google_colab_quick_guide.htm"
      ],
      "metadata": {
        "id": "nCDZddmzs2cW"
      }
    }
 {
      "cell_type": "markdown",
      "metadata": {},
      "source": [
        "# C++ vs. Python Beispiele\n",
        "# Verzeichnis\n",
        "\n",
        "1. [Main-Funktion](#Main-Funktion)\n",
        "2. [Ausgabe](#Ausgabe)\n",
        "3. [Eingabe](#Eingabe)\n",
        "4. [String-Eingabe](#String-Eingabe)\n",
        "5. [Variablendiklaration](#Variablendiklaration)\n",
        "6. [Einrückung](#Einrueckung)\n",
        "7. [Kommentare](#Kommentare)\n",
        "8. [For-Schleife](#For-Schleife)\n",
        "9. [Switch](#Switch)\n",
        "10. [Max-Funktion](#Max-Funktion)\n",
        "11. [Min-Funktion](#Min-Funktion)\n",
        "12. [Swap-Funktion](#Swap-Funktion)\n",
        "13. [Funktionen](#Funktionen)\n",
        "14. [Klassen](#Klassen)\n",
        "15. [Konstruktor](#Konstruktor)\n",
        "16. [Parameter-Konstuktor](#Parameter-Konstuktor)\n",
        "17. [Vererbung](#Vererbung)\n",
        "18. [Verkapselung](#Verkapselung)"
      ]
    },
    {
      "cell_type": "markdown",
      "metadata": {},
      "source": [
        "# Main-Funktion\n",
        "### In Python gibt's keine `Main`-Funktion.\n",
        "\n",
        "#### 1- Teil C++:\n",
        "```cpp\n",
        "#include <iostream>  \n",
        "using namespace std;      \n",
        "\n",
        "int main() {  \n",
        "    cout << \"Hello world!\";  \n",
        "    return 0;  \n",
        "}\n",
        "```\n",
        "#### 2- Teil Python:\n",
        "in Python geht direkt oder auch durch Python-Idiom bzw. `__name__= '__main__':`...  \n",
        "Was unter Pythom-Idiom steht, wird nur dann ausgeführt, wenn die Datei mit dieser Idiom ausgeführt wird. Sonst kann alles anderes aus andere Dateien aufgerufen werden."
      ]
    },
    {
      "cell_type": "code",
      "execution_count": 11,
      "metadata": {},
      "outputs": [
        {
          "name": "stdout",
          "output_type": "stream",
          "text": [
            "Hello world!\n",
            "Hello world from Python-Idiom!\n"
          ]
        }
      ],
      "source": [
        "print(\"Hello world!\") # so\n",
        "if __name__ == '__main__': # oder so\n",
        "    print(\"Hello world from Python-Idiom!\")"
      ]
    },
    {
      "cell_type": "markdown",
      "metadata": {},
      "source": [
        "[Zurück zum Verzeichnis](#Verzeichnis)\n",
        "# Ausgabe\n",
        "#### 1- Teil C++:\n",
        "```cpp\n",
        "#include <iostream>  \n",
        "using namespace std;      \n",
        "    \n",
        "int main() {  \n",
        "    cout << \"Hello world!\";  \n",
        "    return 0;  \n",
        "}\n",
        "```\n",
        "\n",
        "#### 2- Teil Python:"
      ]
    },
    {
      "cell_type": "code",
      "execution_count": 1,
      "metadata": {
        "trusted": true
      },
      "outputs": [
        {
          "name": "stdout",
          "output_type": "stream",
          "text": [
            "Hello world!\n"
          ]
        }
      ],
      "source": [
        "print(\"Hello world!\")"
      ]
    },
    {
      "cell_type": "markdown",
      "metadata": {},
      "source": [
        "##### Ja ,genau so ist es einfach!  \n",
        "##### Wie Sie bemerkt haben, gibt es in Python keine Semikolon am Ende jeder Anweisung wie in C++, C oder auch in Java. Aber es schadet nicht, wenn man sie schreibt.\n",
        "[Zurück zum Verzeichnis](#Verzeichnis)\n",
        "# Eingabe\n",
        "#### 1- Teil C++:\n",
        "```cpp\n",
        "#include <iostream>  \n",
        "using namespace std;\n",
        "int main() {  \n",
        "    cout << \"Please enter a number!\"<<endl;\n",
        "    int number;\n",
        "    cin>> numer;\n",
        "    cout<<number<<endl;\n",
        "    return 0;  \n",
        "}\n",
        "```\n",
        "#### 2- Teil Python:  \n",
        "In Python ist die Eingabe immer als String, daher benutzt man int() für eine Zahleingabe."
      ]
    },
    {
      "cell_type": "code",
      "execution_count": 4,
      "metadata": {
        "tags": [],
        "trusted": true
      },
      "outputs": [],
      "source": [
        "number = int(input(\"Please enter a number: \"))"
      ]
    },
    {
      "cell_type": "code",
      "execution_count": 5,
      "metadata": {
        "trusted": true
      },
      "outputs": [
        {
          "name": "stdout",
          "output_type": "stream",
          "text": [
            "1\n"
          ]
        }
      ],
      "source": [
        "print(number)"
      ]
    },
    {
      "cell_type": "markdown",
      "metadata": {},
      "source": [
        "[Zurück zum Verzeichnis](#Verzeichnis)\n",
        "# String-Eingabe\n",
        "#### 1- Teil C++\n",
        "```cpp\n",
        "#include <iostream>  \n",
        "using namespace std;      \n",
        "int main() {  \n",
        "   string str_input\n",
        "    cout << \"Please enter a string!\"<<endl;\";\n",
        "    cin>>str_input\n",
        "    cout<<\"die Eingegebene String ist: \"<<str_input<<endl;\n",
        "    return 0;  \n",
        "}\n",
        "```\n",
        "#### 2- Teil Python"
      ]
    },
    {
      "cell_type": "code",
      "execution_count": 6,
      "metadata": {
        "trusted": true
      },
      "outputs": [],
      "source": [
        "str_input= input(\"Please enter a string!\\n\")"
      ]
    },
    {
      "cell_type": "code",
      "execution_count": 7,
      "metadata": {
        "trusted": true
      },
      "outputs": [
        {
          "name": "stdout",
          "output_type": "stream",
          "text": [
            "The entered string is: \n",
            "Ashraf\n"
          ]
        }
      ],
      "source": [
        "print(\"The entered string is: \")\n",
        "print(str_input)"
      ]
    },
    {
      "cell_type": "markdown",
      "metadata": {},
      "source": [
        "##### Es gibt in Python sozusagen f-format für die Ausgabe. Dies ist einfacher und lesbarer.  \n",
        "Z.B. das obige Beispiel kann so geschrieben werden:"
      ]
    },
    {
      "cell_type": "code",
      "execution_count": 8,
      "metadata": {
        "trusted": true
      },
      "outputs": [
        {
          "name": "stdout",
          "output_type": "stream",
          "text": [
            "The entered string is: Ashraf!\n",
            "\n"
          ]
        }
      ],
      "source": [
        "print(f\"The entered string is: {str_input}!\\n\")"
      ]
    },
    {
      "cell_type": "markdown",
      "metadata": {},
      "source": [
        "[Zurück zum Verzeichnis](#Verzeichnis)\n",
        "# Variablendiklaration\n",
        "#### Im Gegensatz zu C++ gibt es in Python keine Variablendiklaration.\n",
        "#### 1- Teil C++\n",
        "```cpp\n",
        "#include <iostream>  \n",
        "using namespace std;      \n",
        "    \n",
        "int main() {  \n",
        "    string variable1= \"Hello\";\n",
        "    float variable2= 3.14\n",
        "    int variable3= 3;   \n",
        "    return 0;  \n",
        "}\n",
        "```\n",
        "#### 2- Teil Python"
      ]
    },
    {
      "cell_type": "code",
      "execution_count": 21,
      "metadata": {
        "trusted": true
      },
      "outputs": [],
      "source": [
        "variable1= \"Hello\"\n",
        "variable2= 3.14\n",
        "variable3= 3"
      ]
    },
    {
      "cell_type": "markdown",
      "metadata": {},
      "source": [
        "[Zurück zum Verzeichnis](#Verzeichnis)\n",
        "# Einrueckung  \n",
        "In C++ begint ein Block mit einer Geschweifte Klammer `{` und endet mit einer geschwefter Klammer `}`  \n",
        "Die geschwiften Klammern braucht man in Python nicht mehr, denn sie werden durch die Einrückung ersetzt. Die Einrückung. Man begint z.B. eine Funktion mit `:` statt `{}` dann geht man eine Zeile runter und ein Leerzeich nach rechts, so dass die Anweisungen der Funktion unten rechts vom Funktionsname. Im folgenden ist ein Beispiel dazu:  \n",
        "#### 1- Teil C++\n",
        "```cpp\n",
        "#include <iostream>  \n",
        "using namespace std;  \n",
        "\n",
        "void print_func(void){\n",
        "    cout<<\"Print function is working!\"<<endl;\n",
        "}\n",
        "int main() {  \n",
        "    print_func();\n",
        "    return 0;  \n",
        "}\n",
        "```\n",
        "#### 2- Teil Python"
      ]
    },
    {
      "cell_type": "code",
      "execution_count": 10,
      "metadata": {
        "trusted": true
      },
      "outputs": [
        {
          "name": "stdout",
          "output_type": "stream",
          "text": [
            "print_func is working\n",
            "\n"
          ]
        }
      ],
      "source": [
        "def print_func():\n",
        "    print(\"print_func is working\\n\")\n",
        "    \n",
        "print_func()"
      ]
    },
    {
      "cell_type": "markdown",
      "metadata": {},
      "source": [
        "[Zurück zum Verzeichnis](#Verzeichnis)\n",
        "# Kommentare  \n",
        "In C++ benutzt man `//` in Python aber `#`\n",
        "#### 1- Teil C++\n",
        "```cpp\n",
        "#include <iostream>  \n",
        "using namespace std; \n",
        "\n",
        "int main() {  \n",
        "    // this is a comment in C++\n",
        "    return 0;  \n",
        "}\n",
        "```\n",
        "#### 2- Teil Python\n"
      ]
    },
    {
      "cell_type": "code",
      "execution_count": 11,
      "metadata": {
        "trusted": true
      },
      "outputs": [],
      "source": [
        "# Ths is a comment in Python"
      ]
    },
    {
      "cell_type": "markdown",
      "metadata": {},
      "source": [
        "[Zurück zum Verzeichnis](#Verzeichnis)\n",
        "# For-Schleife  \n",
        "#### 1- Teil C++\n",
        "```cpp\n",
        "#include <iostream>  \n",
        "using namespace std;      \n",
        "    \n",
        "int main() {  \n",
        "    for(int i=1; i>=10;i++){\n",
        "    cout<<i<<endl;\n",
        "    };   \n",
        "    return 0;  \n",
        "}\n",
        "```\n",
        "#### 2- Teil Python"
      ]
    },
    {
      "cell_type": "code",
      "execution_count": 12,
      "metadata": {
        "trusted": true
      },
      "outputs": [
        {
          "name": "stdout",
          "output_type": "stream",
          "text": [
            "1\n",
            "2\n",
            "3\n",
            "4\n",
            "5\n",
            "6\n",
            "7\n",
            "8\n",
            "9\n",
            "10\n"
          ]
        }
      ],
      "source": [
        "for i in range(1,11):\n",
        "    print(i)"
      ]
    },
    {
      "cell_type": "markdown",
      "metadata": {},
      "source": [
        "#### 3- Teil C++ mit Array  \n",
        "```cpp\n",
        "#include <iostream>  \n",
        "using namespace std;      \n",
        "    \n",
        "int main() {  \n",
        "   int myArray={1, 2, 3, 4, 5};\n",
        "    for(int i=1; i>=10;i++){\n",
        "    cout<<myArray[i]<<endl;\n",
        "    }; \n",
        "    return 0;  \n",
        "}\n",
        "```\n",
        "#### 4- Teil Python"
      ]
    },
    {
      "cell_type": "code",
      "execution_count": 13,
      "metadata": {
        "trusted": true
      },
      "outputs": [
        {
          "name": "stdout",
          "output_type": "stream",
          "text": [
            "1\n",
            "2\n",
            "3\n",
            "4\n",
            "5\n"
          ]
        }
      ],
      "source": [
        "myArray={1, 2, 3, 4, 5};\n",
        "for i in myArray:\n",
        "    print(i)"
      ]
    },
    {
      "cell_type": "markdown",
      "metadata": {},
      "source": [
        "[Zurück zum Verzeichnis](#Verzeichnis)\n",
        "# Switch\n",
        "#### 1- Teil C++\n",
        "```cpp\n",
        "#include <iostream>\n",
        "using namespace std;\n",
        "\n",
        "int main() {\n",
        "    char option;\n",
        "    cout << \"Eine der Operationen +-*/ auswählen: \";\n",
        "    cin >> option;\n",
        "    int x = 2, y = 3;\n",
        "    int result;\n",
        "\n",
        "    switch (option) {\n",
        "        case '+':\n",
        "            result = x + y;\n",
        "            break;\n",
        "        case '*':\n",
        "            result = x * y;\n",
        "            break;\n",
        "        case '-':\n",
        "            result = x - y;\n",
        "            break;\n",
        "        case '/':\n",
        "            result = x / y;\n",
        "            break;\n",
        "        default:\n",
        "            result = 000;\n",
        "            cout << \"Error!\" << endl;\n",
        "    }\n",
        "    cout << \"Ergebnis: \" << result << endl;\n",
        "    return 0;\n",
        "}\n",
        "\n",
        "```\n",
        "#### 2- Teil Python"
      ]
    },
    {
      "cell_type": "code",
      "execution_count": 3,
      "metadata": {},
      "outputs": [
        {
          "name": "stdout",
          "output_type": "stream",
          "text": [
            "result: 5\n"
          ]
        }
      ],
      "source": [
        "option=input(\"Eined der Operationen +-*/ auswählen: \")\n",
        "x=2; y=3\n",
        "match option:\n",
        "    case \"+\":\n",
        "      result=x+y\n",
        "  \n",
        "    case \"*\":\n",
        "      result=x*y\n",
        "\n",
        "    case \"-\":\n",
        "      result=x-y\n",
        "  \n",
        "    case \"/\":\n",
        "      result=x/y\n",
        "  \n",
        "    case _:\n",
        "      result=00000\n",
        "      print(\"Error!\\n\")\n",
        "print(f\"result: {result}\")"
      ]
    },
    {
      "cell_type": "markdown",
      "metadata": {},
      "source": [
        "[Zurück zum Verzeichnis](#Verzeichnis)\n",
        "# Max-Funktion\n",
        "### Zum Finden des maximalen Werts\n",
        "#### 1- Teil C++\n",
        "```cpp\n",
        "#include <iostream>\n",
        "using namespace std;\n",
        "\n",
        "int main() {\n",
        "    int myArray[5] = {12, 56, 34, 89, 17};\n",
        "    int maxValue = myArray[0];\n",
        "    for (int i = 1; i < 5; ++i) {\n",
        "        if (myArray[i] > maxValue) {\n",
        "            maxValue = myArray[i];\n",
        "        }\n",
        "    }\n",
        "    cout << \"The maximum value in the array is: \" << maxValue << endl;\n",
        "    return 0;\n",
        "}\n",
        "```\n",
        "#### 2- Teil Python"
      ]
    },
    {
      "cell_type": "code",
      "execution_count": 14,
      "metadata": {
        "trusted": true
      },
      "outputs": [
        {
          "name": "stdout",
          "output_type": "stream",
          "text": [
            "The maximum value in the array is: 89\n"
          ]
        }
      ],
      "source": [
        "myArray = [12, 56, 34, 89, 17]\n",
        "maxValue = max(myArray)\n",
        "print(\"The maximum value in the array is:\", maxValue)"
      ]
    },
    {
      "cell_type": "markdown",
      "metadata": {},
      "source": [
        "[Zurück zum Verzeichnis](#Verzeichnis)\n",
        "# Min-Funktion\n",
        "### Zum Finden des minimalen Werts\n",
        "#### 1- Teil C++\n",
        "```cpp\n",
        "#include <iostream>\n",
        "using namespace std;\n",
        "\n",
        "int main() {\n",
        "    int myArray[5] = {12, 56, 34, 89, 17};\n",
        "    int minValue = myArray[0];\n",
        "    for (int i = 1; i < 5; ++i) {\n",
        "        if (myArray[i] < minValue) {\n",
        "            minValue = myArray[i];\n",
        "        }\n",
        "    }\n",
        "    cout << \"The minimum value in the array is: \" << minValue << endl;\n",
        "    return 0;\n",
        "}\n",
        "```\n",
        "#### 2- Teil Python"
      ]
    },
    {
      "cell_type": "code",
      "execution_count": 15,
      "metadata": {
        "trusted": true
      },
      "outputs": [
        {
          "name": "stdout",
          "output_type": "stream",
          "text": [
            "The minimum value in the array is: 12\n"
          ]
        }
      ],
      "source": [
        "myArray = [12, 56, 34, 89, 17]\n",
        "minValue = min(myArray)\n",
        "print(\"The minimum value in the array is:\", minValue)"
      ]
    },
    {
      "cell_type": "markdown",
      "metadata": {},
      "source": [
        "[Zurück zum Verzeichnis](#Verzeichnis)\n",
        "# Swap-Funktion\n",
        "#### 1- Teil C++\n",
        "```cpp\n",
        "#include <iostream>\n",
        "using namespace std;\n",
        "\n",
        "void swap(int &a, int &b) {\n",
        "    int temp = a;\n",
        "    a = b;\n",
        "    b = temp; \n",
        "}\n",
        "int main() {\n",
        "    int num1 = 10;\n",
        "    int num2 = 20;\n",
        "    cout << \"Before the swap: num1 = \" << num1 << \", num2 = \" << num2 << endl;\n",
        "    swap(num1, num2);\n",
        "    cout << \"After the swap: num1 = \" << num1 << \", num2 = \" << num2 << endl;\n",
        "    return 0;\n",
        "}\n",
        "\n",
        "```\n",
        "#### 2- Teil Python"
      ]
    },
    {
      "cell_type": "code",
      "execution_count": 20,
      "metadata": {
        "trusted": true
      },
      "outputs": [
        {
          "name": "stdout",
          "output_type": "stream",
          "text": [
            "Before the swap: num1 = 10 , num2 = 20\n",
            "After the swap: num1 = 20 , num2 = 10\n"
          ]
        }
      ],
      "source": [
        "num1 = 10\n",
        "num2 = 20\n",
        "print(\"Before the swap: num1 =\", num1, \", num2 =\", num2)\n",
        "num1, num2 = num2, num1\n",
        "print(\"After the swap: num1 =\", num1, \", num2 =\", num2)"
      ]
    },
    {
      "cell_type": "markdown",
      "metadata": {},
      "source": [
        "[Zurück zum Verzeichnis](#Verzeichnis)\n",
        "# Funktionen\n",
        "#### 1- Teil C++\n",
        "```cpp\n",
        "#include <iostream>\n",
        "using namespace std;\n",
        "\n",
        "int addNumbers(int a, int b) {\n",
        "    int sum = a + b;\n",
        "    return sum;\n",
        "}\n",
        "\n",
        "int main() {\n",
        "    int num1 = 5, num2 = 10;\n",
        "    int result = addNumbers(num1, num2);\n",
        "    cout << \"The sum of \" << num1 << \" and \" << num2 << \" is: \" << result << endl;\n",
        "    return 0;\n",
        "}\n",
        "```\n",
        "#### 2- Teil Python"
      ]
    },
    {
      "cell_type": "code",
      "execution_count": 19,
      "metadata": {
        "trusted": true
      },
      "outputs": [
        {
          "name": "stdout",
          "output_type": "stream",
          "text": [
            "The sum of 5 and 10 is: 15\n"
          ]
        }
      ],
      "source": [
        "def addNumbers(a, b): \n",
        "    sum = a + b\n",
        "    return sum\n",
        "\n",
        "# Hauptprogramm\n",
        "num1 = 5\n",
        "num2 = 10\n",
        "result = addNumbers(num1, num2)\n",
        "print(\"The sum of\", num1, \"and\", num2, \"is:\", result)"
      ]
    },
    {
      "cell_type": "markdown",
      "metadata": {},
      "source": [
        "[Zurück zum Verzeichnis](#Verzeichnis)\n",
        "# Klassen\n",
        "#### 1- Teil C++\n",
        "```cpp\n",
        "#include <iostream>\n",
        "using namespace std;\n",
        "\n",
        "class Shape {\n",
        "public:\n",
        "    Shape() {\n",
        "        cout << \"Shape constructor called.\" << endl;}\n",
        "\n",
        "    virtual double area() const { \n",
        "        return 0.0; }\n",
        "};\n",
        "\n",
        "int main() {\n",
        "    Shape shape;\n",
        "    double area = shape.area();\n",
        "    cout << \"The area of the shape is: \" << area << endl;\n",
        "    return 0;\n",
        "}\n",
        "```\n",
        "#### 2- Teil Python"
      ]
    },
    {
      "cell_type": "code",
      "execution_count": 18,
      "metadata": {
        "trusted": true
      },
      "outputs": [
        {
          "name": "stdout",
          "output_type": "stream",
          "text": [
            "Shape constructor called.\n",
            "The area of the shape is: 0.0\n"
          ]
        }
      ],
      "source": [
        "class Shape:\n",
        "    def __init__(self):\n",
        "        print(\"Shape constructor called.\")\n",
        "        \n",
        "    def area(self):\n",
        "        return 0.0\n",
        "shape = Shape()\n",
        "area = shape.area() \n",
        "print(\"The area of the shape is:\", area)"
      ]
    },
    {
      "cell_type": "markdown",
      "metadata": {},
      "source": [
        "[Zurück zum Verzeichnis](#Verzeichnis)"
      ]
    },
    {
      "cell_type": "markdown",
      "metadata": {},
      "source": [
        "# Konstruktor\n",
        "#### 1- Teil C++\n",
        "```cpp\n",
        "#include <iostream>\n",
        "using namespace std;\n",
        "\n",
        "class Person {\n",
        "public:\n",
        "    Person() {\n",
        "        cout << \"I created a person! It's alive!\" << endl;\n",
        "    }\n",
        "};\n",
        "\n",
        "int main() {\n",
        "    Person manager;\n",
        "    cout << &manager << endl;\n",
        "    return 0;\n",
        "}\n",
        "\n",
        "```\n",
        "#### 2- Teil Python\n",
        "`__init__(self):` dient als Konstruktor in Python und wird sofort ausgeführt, wenn ein Objekt der Klasse ausgelegt wird."
      ]
    },
    {
      "cell_type": "code",
      "execution_count": 1,
      "metadata": {},
      "outputs": [
        {
          "name": "stdout",
          "output_type": "stream",
          "text": [
            "I created a person! It's alive!\n",
            "<__main__.Person object at 0x000001C84AAC9660>\n"
          ]
        }
      ],
      "source": [
        "class Person:\n",
        "    def __init__(self):\n",
        "        print(\"I created a person! It's alive!\")\n",
        "\n",
        "manager = Person()\n",
        "print(manager)"
      ]
    },
    {
      "cell_type": "markdown",
      "metadata": {},
      "source": [
        "[Zurück zum Verzeichnis](#Verzeichnis)"
      ]
    },
    {
      "cell_type": "markdown",
      "metadata": {},
      "source": [
        "# Parameter-Konstuktor\n",
        "#### 1- Teil C++\n",
        "```cpp\n",
        "#include <iostream>\n",
        "#include <string>\n",
        "using namespace std;\n",
        "\n",
        "class Person {\n",
        "public:\n",
        "    string name;\n",
        "    int age;\n",
        "    string nationality;\n",
        "    Person(string name, int age, string nationality = \"uk\") : name(name), age(age), nationality(nationality) {}\n",
        "};\n",
        "\n",
        "int main() {\n",
        "    Person manager(\"Ashraf\", 20, \"malaysia\");\n",
        "    cout << manager.name << endl;\n",
        "    cout << manager.nationality << endl;\n",
        "    manager.age = 24;\n",
        "    cout << manager.age << endl;\n",
        "    return 0;\n",
        "} \n",
        "```\n",
        "#### 2- Teil Python\n",
        "`self` in Python ist ähnlich zu `This` in C++"
      ]
    },
    {
      "cell_type": "code",
      "execution_count": 3,
      "metadata": {},
      "outputs": [
        {
          "name": "stdout",
          "output_type": "stream",
          "text": [
            "Ashraf\n",
            "malaysia\n",
            "24\n"
          ]
        }
      ],
      "source": [
        "class Person:\n",
        "    def __init__(self, name, age, nationality=\"uk\"):\n",
        "        self.name = name\n",
        "        self.age = age\n",
        "        self.nationality = nationality\n",
        "\n",
        "manager = Person(\"Ashraf\", 20, \"malaysia\")\n",
        "print(manager.name)\n",
        "print(manager.nationality)\n",
        "manager.age = 24\n",
        "print(manager.age)"
      ]
    },
    {
      "cell_type": "markdown",
      "metadata": {},
      "source": [
        "[Zurück zum Verzeichnis](#Verzeichnis)"
      ]
    },
    {
      "cell_type": "markdown",
      "metadata": {},
      "source": [
        "# Vererbung\n",
        "#### 1- Teil C++\n",
        "```cpp\n",
        "#include <iostream>\n",
        "#include <string>\n",
        "using namespace std;\n",
        "\n",
        "class GameCharacter {\n",
        "protected:\n",
        "    string name;\n",
        "    int health, strength, defence;\n",
        "public:\n",
        "    GameCharacter(string name, int health = 50, int strength = 30, int defence = 20)\n",
        "        : name(name), health(health), strength(strength), defence(defence) {}\n",
        "};\n",
        "\n",
        "class Villain : public GameCharacter {\n",
        "public:\n",
        "    Villain(string name, int health = 60, int strength = 30, int defence = 20, int evilness = 50)\n",
        "        : GameCharacter(name, health, strength, defence), evilness(evilness) {}\n",
        "\n",
        "int main() {\n",
        "    GameCharacter boy(\"Boy\", 100, 20, 10);\n",
        "    Villain evilman(\"Voldemort\", 30, 50, 40, 100);\n",
        "    cout << boy.getHealth() << endl;\n",
        "    cout << evilman.getHealth() << endl;\n",
        "    return 0;\n",
        "}\n",
        "```\n",
        "#### 2- Teil Python"
      ]
    },
    {
      "cell_type": "code",
      "execution_count": 7,
      "metadata": {},
      "outputs": [
        {
          "name": "stdout",
          "output_type": "stream",
          "text": [
            "100\n",
            "30\n"
          ]
        }
      ],
      "source": [
        "class GameCharacter:\n",
        "    def __init__(self, name, health=50, strength=30, defence=20):\n",
        "        self.name = name\n",
        "        self.health = health\n",
        "        self.strength = strength\n",
        "        self.defence = defence\n",
        "\n",
        "class Villain(GameCharacter):\n",
        "    def __init__(self, name, health=60, strength=30, defence=20, evilness=50):\n",
        "        super().__init__(name, health, strength, defence)\n",
        "        self.evilness = 50\n",
        "\n",
        "boy = GameCharacter(\"Boy\", 100, 20, 10)\n",
        "evilman = Villain(\"Voldemort\", 30, 50, 40, 100)\n",
        "print(boy.health)\n",
        "print(evilman.health)"
      ]
    },
    {
      "cell_type": "markdown",
      "metadata": {},
      "source": [
        "[Zurück zum Verzeichnis](#Verzeichnis)"
      ]
    },
    {
      "cell_type": "markdown",
      "metadata": {},
      "source": [
        "# Verkapselung\n",
        "#### 1- Teil C++\n",
        "```cpp\n",
        "#include <iostream>\n",
        "#include <string>\n",
        "using namespace std;\n",
        "\n",
        "class Person {\n",
        "private:\n",
        "    int age;\n",
        "public:\n",
        "    string name;\n",
        "    Person(string name, int age) : name(name), age(age) {}\n",
        "    int getAge() { return age; }\n",
        "};\n",
        "int main() {\n",
        "    Person person(\"John Doe\", 30);\n",
        "    cout << \"Age: \" << person.getAge() << endl;\n",
        "    return 0;\n",
        "}\n",
        "```\n",
        "#### 2- Teil Python"
      ]
    },
    {
      "cell_type": "code",
      "execution_count": 9,
      "metadata": {},
      "outputs": [
        {
          "name": "stdout",
          "output_type": "stream",
          "text": [
            "Name: John Doe\n",
            "Age: 30\n"
          ]
        }
      ],
      "source": [
        "class Person:\n",
        "    def __init__(self, name, age=18):\n",
        "        self.name = name\n",
        "        self.__age = age\n",
        "        \n",
        "    def get_age(self):\n",
        "        return self.__age\n",
        "person = Person(\"John Doe\", 30)\n",
        "print(\"Name:\", person.name)\n",
        "print(\"Age:\", person.get_age())"
      ]
    },
    {
      "cell_type": "markdown",
      "metadata": {},
      "source": [
        "[Zurück zum Verzeichnis](#Verzeichnis)"
      ]
    }
  ]
}
