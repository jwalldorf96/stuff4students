{
  "cells": [
    {
      "cell_type": "markdown",
      "metadata": {
        "id": "view-in-github",
        "colab_type": "text"
      },
      "source": [
        "<a href=\"https://colab.research.google.com/github/jwalldorf96/stuff4students/blob/main/cpp2py.ipynb\" target=\"_parent\"><img src=\"https://colab.research.google.com/assets/colab-badge.svg\" alt=\"Open In Colab\"/></a>"
      ]
    },
    {
      "cell_type": "markdown",
      "metadata": {
        "id": "k0rVxd9OMN01"
      },
      "source": [
        "# Allgemeines\n",
        "\n",
        "Test\n",
        "\n",
        "Ziel des Notebooks ist ein leichter Einstieg in **Python** anhand von Beispielen, falls sie bereits mit **C++** vertraut sind.\n",
        "\n",
        "Ein weiteres Ziel ist es, hierbei auch das Verständnis für die Konzepte von C++ durch Wiederholung und Vergleich zu vertiefen.\n",
        "\n",
        "Danke an Herrn Ashraf Yahya für die Mithife bei der Erstellung des Notebooks.\n",
        "\n",
        "Viele Ideen stammen aus https://python.pages.doc.ic.ac.uk/cpp/lessons/cpp/ für dasselbe Publikum."
      ]
    },
    {
      "cell_type": "markdown",
      "metadata": {
        "id": "aAsX4EvQw90t"
      },
      "source": [
        "## Allgemeines zu Jupyter Notebooks\n",
        "Bei Jupyter Notebooks https://jupyter.org/ kann Text mit Programm-Code gemischt werden.\n",
        "\n",
        "Damit sie zur Ausführung keine lokalen Installationen benötigen, benutzen wir die Cloud von Google Colab https://colab.research.google.com/?hl=de. Dafür brauchen sie leider ein **Konto bei google**. Eine lokale Installation ist auch möglich, aber wegen des C++ Compilers aufwendig. Falls sie nur den Python Code ausführen möchten, dann können sie auch eine lokale Installtion oder z.B. Visual Studio Code nutzen. Aktuelle Anleitungen finden sie im Web.\n",
        "\n",
        "### Das Wichtigste für die **Bedienung**:\n",
        "- Zum Ausführen einer Zelle mit Programmcode entweder auf das Dreieck-Icon klicken, oder *Shift+Enter*.\n",
        "- In Jupyter Notebooks gibt es auch ein Menu (meist ganz oben), mit dem Sie z.B. die Ausführung neu starten können.\n",
        "- Ein Inhaltsverzeichnis/ eine Gliederung des Notebooks wird (meist links daneben) auch angezeigt.\n",
        "- Sie können sowohl die Zellen mit Text (in einfacher Markdown-Syntax), also aus die Zellen mit Code editieren; mit Doppelklick.\n",
        "- Wenn sie damit fertig sind: Rechts oben ein Haken d'ran, oder *Ctrl+Enter*"
      ]
    },
    {
      "cell_type": "markdown",
      "metadata": {
        "id": "NS6ujVYsMN1B"
      },
      "source": [
        "<img src=\"https://github.com/wwalbrecht/stuff4students/blob/main/pics/python-logo-only.svg?raw=1\" alt=\"Python\" width=\"30\" height=\"auto\">\n",
        "Vorab ein kurzer Gruss von Python-Code, dem eingebauten 'Favoriten' bei Jupyter Notebooks:\n",
        "\n"
      ]
    },
    {
      "cell_type": "code",
      "execution_count": null,
      "metadata": {
        "id": "NgJSWXEf1ZKf",
        "outputId": "48234f72-b50a-4254-abdb-10e115816395"
      },
      "outputs": [
        {
          "name": "stdout",
          "output_type": "stream",
          "text": [
            "Vorab ein kurzer Gruss von Python-Code, dem eingebauten 'Favoriten' bei Jupyter Notebooks.\n"
          ]
        }
      ],
      "source": [
        "print(\"Vorab ein kurzer Gruss von Python-Code, dem eingebauten 'Favoriten' bei Jupyter Notebooks.\")"
      ]
    },
    {
      "cell_type": "markdown",
      "metadata": {
        "id": "sKM5guJPMN1H"
      },
      "source": [
        "### Sicherung bei Nutzung von Colab via Google Drive\n",
        "Falls sie ihre Ergebnisse/Ausgaben bei der Nutzung in Colab über eine Browser-Sitzung hinaus speichern möchten, dann nutzen sie folgende Zeilen, um ihr google-Drive zu verbinden."
      ]
    },
    {
      "cell_type": "code",
      "execution_count": null,
      "metadata": {
        "id": "oY8tNFASMN1I"
      },
      "outputs": [],
      "source": [
        "from google.colab import drive\n",
        "drive.mount('/content/drive')\n",
        "!echo \"Zur Überprüfung die Inhalt des 'Laufwerks' ausgeben:\"\n",
        "!ls -l \"/content/drive/My Drive\""
      ]
    },
    {
      "cell_type": "markdown",
      "metadata": {
        "id": "ra9j3V0XQJ_s"
      },
      "source": [
        "## Nötige Initialisierungen für C++\n",
        "\n",
        "Für C++ müssen Installationen gemacht (und ausgeführt) werden, damit im Notebook das \"cell magic\" %%cu für den Compiler verfügbar ist. (Quelle: https://www.geeksforgeeks.org/how-to-run-cuda-c-c-on-jupyter-notebook-in-google-colaboratory/)\n",
        "\n",
        "Falls sie dieses Notebook in Colab geöffnet haben, dann führen sie jetzt diesen Code-Block aus! Zum Ausführen des Programm-Code gehen sie mit der Maus über die nächste Zelle (Code Block) und klicken auf den Pfeil (Dreieck) daneben.\n",
        "\n",
        "(Für Interessierte: Mit '!' am Anfang der Zeil werden hier Befehle an die Konsole des Servers geschickt.)"
      ]
    },
    {
      "cell_type": "code",
      "execution_count": null,
      "metadata": {
        "id": "fyVDClX4P3WX"
      },
      "outputs": [],
      "source": [
        "!echo \"*** 1.)  Test if NVIDIA(R)-cuda-compiler-driver is availabe...\"\n",
        "!nvcc --version\n",
        "!echo \"*** 2.) Install extension to run nvcc ...\"\n",
        "%pip install git+https://github.com/andreinechaev/nvcc4jupyter.git\n",
        "!echo \"*** 3.) Load extension using a 'line magic %' command....\"\n",
        "%load_ext nvcc_plugin"
      ]
    },
    {
      "cell_type": "markdown",
      "metadata": {
        "id": "IvvCXgAEOR52"
      },
      "source": [
        "### Hello C++-World from Jupyter Notebook\n",
        "\n",
        "<img src=\"https://github.com/wwalbrecht/stuff4students/blob/main/pics/ISO_C++_Logo.svg?raw=1\" alt=\"C++\" width=\"30\" height=\"auto\">\n",
        "Falls die Installationen geklappt haben, dann sollten sie jetzt auch folgendes ausführen können."
      ]
    },
    {
      "cell_type": "code",
      "execution_count": null,
      "metadata": {
        "id": "GDXqDlB-PnvJ",
        "outputId": "3bf47bc0-ccaa-432a-8fe4-ea18fd00911c"
      },
      "outputs": [
        {
          "name": "stderr",
          "output_type": "stream",
          "text": [
            "UsageError: Cell magic `%%cu` not found.\n"
          ]
        }
      ],
      "source": [
        "%%cu\n",
        "#include <iostream>\n",
        "int\tmain(void) {\n",
        "\tstd::cout << \"Hello from C++ inside jupyter notebook!\\n\";\n",
        "\treturn 0;\n",
        "}"
      ]
    },
    {
      "cell_type": "markdown",
      "metadata": {
        "id": "vdgQBpe-MN1N"
      },
      "source": [
        "Probleme?\n",
        "> Sehen sie statt der Ausgabe nur \"*UsageError: Cell magic `%%cu` not found.*\"?\n",
        "> Haben sie den Code-Block darüber schon ausgeführt?\n",
        "> (Wundern sie sich nicht über die Unterstrich-Markierungen des Editors -- der denkt leider er hätte Python-Code vor sich.)"
      ]
    },
    {
      "cell_type": "markdown",
      "metadata": {
        "id": "YKzUnQDbMN1N"
      },
      "source": [
        "*Damit sollten die Initialisierungen erledigt sein und der Hauptteil kann starten.*"
      ]
    },
    {
      "cell_type": "markdown",
      "metadata": {
        "id": "Zsh6GS9DMN1O"
      },
      "source": [
        "# C++ vs. Python in Beispielen"
      ]
    },
    {
      "cell_type": "markdown",
      "metadata": {
        "id": "NNWjHUirMN1O"
      },
      "source": [
        "## Grundlagen für das erste Programm\n",
        "\n",
        "Aufbau, Syntax, Formatierung, Ein-/Ausgabe, ..."
      ]
    },
    {
      "cell_type": "markdown",
      "metadata": {
        "id": "wpCD_D-MMN1O"
      },
      "source": [
        "### Main-Funktion\n",
        "\n",
        "<img src=\"https://github.com/wwalbrecht/stuff4students/blob/main/pics/ISO_C++_Logo.svg?raw=1\" alt=\"C++\" width=\"30\" height=\"auto\"> C++ verlangt genau eine `main`-Funktion"
      ]
    },
    {
      "cell_type": "code",
      "execution_count": null,
      "metadata": {
        "id": "FEdK1cllMN1P"
      },
      "outputs": [],
      "source": [
        "%%cu\n",
        "#include <iostream>\n",
        "int\tmain(void) {\n",
        "\tstd::cout << \"Welcome To C++!\\n\";\n",
        "\treturn 0;\n",
        "}"
      ]
    },
    {
      "cell_type": "markdown",
      "metadata": {
        "id": "y3PtppInMN1P"
      },
      "source": [
        "<img src=\"https://github.com/wwalbrecht/stuff4students/blob/main/pics/python-logo-only.svg?raw=1\" alt=\"Python\" width=\"30\" height=\"auto\"> Python benötigt kein `main`.\n",
        "- Es werden alle Anweisungen in der Datei ausgeführt (sofern sie nicht in Funktionen oder Klassen stehen).\n",
        "- Spätestens beim Arbeiten mit mehreren Dateien/Skripten ist es sinnvoll die Ausführung mit einer speziellen Art \"\\_\\_main\\_\\_\"-Funktion genauer zu steuern."
      ]
    },
    {
      "cell_type": "code",
      "execution_count": null,
      "metadata": {
        "id": "y2JcrxkxMN1Q",
        "outputId": "cc2c03bd-def1-4ae4-f0e1-cd728cd664df"
      },
      "outputs": [
        {
          "name": "stdout",
          "output_type": "stream",
          "text": [
            "Hello from anywhere in the file!\n",
            "Hello from Python-Script (((also from Jupyter Notebook)))!\n"
          ]
        }
      ],
      "source": [
        "print(\"Hello from anywhere in the file!\")\n",
        "\n",
        "if __name__ == '__main__': # only if run as a script\n",
        "    print(\"Hello from Python-Script (((also from Jupyter Notebook)))!\")"
      ]
    },
    {
      "cell_type": "markdown",
      "metadata": {
        "id": "tXszjKIMMN1Q"
      },
      "source": [
        "### Formatierung und Co.\n",
        "\n",
        "<img src=\"https://github.com/wwalbrecht/stuff4students/blob/main/pics/python-logo-only.svg?raw=1\" alt=\"Python\" width=\"30\" height=\"auto\">  In Python ist das Semikolon am Ende einer Anweisung optional.\n"
      ]
    },
    {
      "cell_type": "code",
      "execution_count": null,
      "metadata": {
        "trusted": true,
        "id": "OOPb_ujLMN1Q",
        "outputId": "bce69e28-1d48-4fe6-8a7b-a584b2bce104"
      },
      "outputs": [
        {
          "name": "stdout",
          "output_type": "stream",
          "text": [
            "Hello without semicolon\n",
            "Hello with semicolon\n",
            "At this ugly time...\n",
            "...it is required\n"
          ]
        }
      ],
      "source": [
        "print(\"Hello without semicolon\")\n",
        "print(\"Hello with semicolon\");\n",
        "\n",
        "print(\"At this ugly time...\"); print(\"...it is required\")"
      ]
    },
    {
      "cell_type": "markdown",
      "metadata": {
        "id": "rzCcb5hhMN1R"
      },
      "source": [
        "### Blöcke und Einrückung am Bsp.: IF-THEN-ELSE\n",
        "<img src=\"https://github.com/wwalbrecht/stuff4students/blob/main/pics/ISO_C++_Logo.svg?raw=1\" alt=\"C++\" width=\"30\" height=\"auto\">\n",
        "Geschweiften Klammern `{ ... }` markieren Blöcke; Einrückungen sind freiwillig.\n",
        "\n",
        "```cpp\n",
        "...\n",
        "if(a>0){\n",
        "    cout<<\"positiv\";\n",
        "    if(a>1000){\n",
        "        cout<<\"big\";\n",
        "    } else {\n",
        "        cout<<\"small\";\n",
        "    }\n",
        "}\n",
        "cout << \"end\";\n",
        "...\n",
        "```\n",
        "<img src=\"https://github.com/wwalbrecht/stuff4students/blob/main/pics/python-logo-only.svg?raw=1\" alt=\"Python\" width=\"30\" height=\"auto\">\n",
        "Einrückung bilden Blöcke:"
      ]
    },
    {
      "cell_type": "code",
      "execution_count": null,
      "metadata": {
        "id": "VNngamJ9MN1R",
        "outputId": "003121b5-fa2f-4fd3-b221-e820a6166dd8"
      },
      "outputs": [
        {
          "name": "stdout",
          "output_type": "stream",
          "text": [
            "positiv\n",
            "big\n",
            "end\n"
          ]
        }
      ],
      "source": [
        "a= 1001\n",
        "if a >0:\n",
        "    print(\"positiv\")\n",
        "    if a >1000:\n",
        "        print(\"big\")\n",
        "    else:\n",
        "        print(\"small\")\n",
        "print(\"end\")"
      ]
    },
    {
      "cell_type": "markdown",
      "metadata": {
        "id": "PSAWAs-KMN1R"
      },
      "source": [
        "Empfohlen sind 4 Leerzeichen zur Einrückung -- mischen sie nicht unterschiedliche Varianten, oder Tabs.\n",
        "\n",
        "UND nebenbei:\n",
        "- als 'Einleitung' über Blöcken steht ein Doppelpunkt '`:`'   \n",
        "- und die Klammern bei den Bedingungen dabei sind optional"
      ]
    },
    {
      "cell_type": "markdown",
      "metadata": {
        "id": "c_-H9eH8MN1S"
      },
      "source": [
        "### Kommentare  \n",
        "<img src=\"https://github.com/wwalbrecht/stuff4students/blob/main/pics/ISO_C++_Logo.svg?raw=1\" alt=\"C++\" width=\"30\" height=\"auto\">\n",
        "\n",
        "```cpp\n",
        "// one line of comment in C++\n",
        "something();  // ...until end of line in C++\n",
        "\n",
        "/* Multiple lines ...\n",
        "   ...of comment in C++\n",
        "*/\n",
        "```\n",
        "\n",
        "<img src=\"https://github.com/wwalbrecht/stuff4students/blob/main/pics/python-logo-only.svg?raw=1\" alt=\"Python\" width=\"30\" height=\"auto\">\n",
        "\n",
        "```python\n",
        "# one line comment in Python\n",
        "something(); # ...until end of line in Python\n",
        "'''\n",
        "and this is ...\n",
        "...a multi-line comment in Python\n",
        "'''\n",
        "\n",
        "\"\"\"\n",
        "and this is ...\n",
        "...also\n",
        "\"\"\"\n",
        "```"
      ]
    },
    {
      "cell_type": "markdown",
      "metadata": {
        "id": "CRh9IaK_MN1S"
      },
      "source": [
        "### Eingabe\n",
        "<img src=\"https://github.com/wwalbrecht/stuff4students/blob/main/pics/ISO_C++_Logo.svg?raw=1\" alt=\"C++\" width=\"30\" height=\"auto\"> Eingabe mittels std::cin:\n",
        "\n",
        "Der zu lesende Datentyp wird anhand der Ziel-Variable erkannt. (Und wird hoffentlich auch passend vom Benutzer eingegeben!)"
      ]
    },
    {
      "cell_type": "code",
      "execution_count": null,
      "metadata": {
        "id": "cFuCH4ZVMN1T"
      },
      "outputs": [],
      "source": [
        "%%cu\n",
        "#include <iostream>\n",
        "#include <string>\n",
        "using namespace std;\n",
        "int main() {\n",
        "    cout << \"Please enter a number!\"<<endl;\n",
        "    int number;\n",
        "    cin >> numer;\n",
        "    cout << \"The numer is: \"  << number << endl;\n",
        "\n",
        "    cout << \"Please enter a string!\"<<endl;\";\n",
        "    string str_input;\n",
        "    cin >> str_input;\n",
        "    cout << \"The string is: \" << str_input << endl;\n",
        "\n",
        "    return 0;\n",
        "}"
      ]
    },
    {
      "cell_type": "markdown",
      "metadata": {
        "id": "a9jggm5zMN1U"
      },
      "source": [
        "<img src=\"https://github.com/wwalbrecht/stuff4students/blob/main/pics/python-logo-only.svg?raw=1\" alt=\"Python\" width=\"30\" height=\"auto\">\n",
        "In Python wird eine Eingabe immer als String gelesen.\n",
        "\n",
        "Daher wird das Ergebnis oft direkt danach gecastet, z.B: in `int()` für eine Zahleingabe."
      ]
    },
    {
      "cell_type": "code",
      "execution_count": null,
      "metadata": {
        "tags": [],
        "trusted": true,
        "id": "30yAgZ37MN1U",
        "outputId": "0379d8a6-6645-4a87-a8bc-a2c31584a1b1"
      },
      "outputs": [
        {
          "name": "stdout",
          "output_type": "stream",
          "text": [
            "The string is:  22\n",
            "The number is:  2222\n",
            "The number is:  2222\n"
          ]
        }
      ],
      "source": [
        "str_input= input(\"Please enter a string!\\n\")\n",
        "print(\"The string is: \", str_input)\n",
        "\n",
        "str_input= input(\"Please enter a number: \")\n",
        "number_input = int(str_input)\n",
        "print(\"The number is: \", number_input)\n",
        "\n",
        "# ...shorter:\n",
        "number_input = int(input(\"Please enter a number: \"))\n",
        "print(\"The number is: \", number_input)"
      ]
    },
    {
      "cell_type": "markdown",
      "metadata": {
        "id": "RHMP6RojMN1V"
      },
      "source": [
        "#### `f`-format für die Ausgabe.  \n",
        "<img src=\"https://github.com/wwalbrecht/stuff4students/blob/main/pics/python-logo-only.svg?raw=1\" alt=\"Python\" width=\"30\" height=\"auto\"> Für längere gemischte Ausgaben gibt es in Python etwas ähnliches wie bei printf:  "
      ]
    },
    {
      "cell_type": "code",
      "execution_count": null,
      "metadata": {
        "trusted": true,
        "id": "j72gP7nsMN1V",
        "outputId": "22514c29-1f2e-43dc-9893-4c425826606a"
      },
      "outputs": [
        {
          "name": "stdout",
          "output_type": "stream",
          "text": [
            "The entered string was: 2222 and the numer was 2222!\n",
            "\n"
          ]
        }
      ],
      "source": [
        "print(f\"The entered string was: {str_input} and the numer was {number_input}!\\n\")"
      ]
    },
    {
      "cell_type": "markdown",
      "metadata": {
        "id": "esuXeHPHMN1V"
      },
      "source": [
        "### Variablendeklaration\n",
        "\n",
        "[Vertiefung später unter 'Typisierung...']<!-- (#sec_typisierung)-->\n",
        "\n",
        "<img src=\"https://github.com/wwalbrecht/stuff4students/blob/main/pics/ISO_C++_Logo.svg?raw=1\" alt=\"C++\" width=\"30\" height=\"auto\">\n",
        "Variablen müssen vor der Verwendung deklariert werden; mit Typangabe.\n",
        "\n",
        "```cpp\n",
        "#include <iostream>  \n",
        "using namespace std;      \n",
        "    \n",
        "int main() {  \n",
        "    string variable1= \"Hello\";\n",
        "    float variable2= 3.14\n",
        "    int variable3= 3;   \n",
        "    return 0;  \n",
        "}\n",
        "```\n",
        "<img src=\"https://github.com/wwalbrecht/stuff4students/blob/main/pics/python-logo-only.svg?raw=1\" alt=\"Python\" width=\"30\" height=\"auto\">\n",
        "Bei Python können sie direkt verwendet werden, wo man sie braucht."
      ]
    },
    {
      "cell_type": "code",
      "execution_count": null,
      "metadata": {
        "trusted": true,
        "id": "RmoizkpHMN1W"
      },
      "outputs": [],
      "source": [
        "variable1= \"Hello\"\n",
        "variable2= 3.14\n",
        "variable3= 3"
      ]
    },
    {
      "cell_type": "markdown",
      "metadata": {
        "id": "yYCLtAbCMN1W"
      },
      "source": [
        "## Objekte und Datentypen"
      ]
    },
    {
      "cell_type": "markdown",
      "metadata": {
        "id": "Fl4hFZPMMN1W"
      },
      "source": [
        "<a id=\"sec_typisierung\"></a>\n",
        "### Typisierung statische (C++) vs. dynamische (Python)\n",
        "\n",
        "**Wichtige grundlegende Konzepte:**\n",
        "- Alle Daten in Python sind in **Objekten** gespeichert, auch z.B. integer.\n",
        "- Variablen in Python sind *vereinfacht gesehen* \"Namen\"/\"Label\" um auf  **Objekte** zuzugreifen.\n",
        "- Die Variablen selbst haben keinen Datentyp, nur die **Objekte** auf die sie verweisen.\n",
        "- Im Vergleich zu C++ sind **alle** Variablen so etwas wie (bessere) Referenzen oder Zeiger auf Objekte.\n",
        "- Vielleicht erinnern sie sich an die void-Zeiter '`void *`' von C++. Auch diese konnten  z.B. einmal auf ein int und später auf ein string zeigen.  \n",
        "\n",
        "\n",
        "<img src=\"https://github.com/wwalbrecht/stuff4students/blob/main/pics/python-logo-only.svg?raw=1\" alt=\"Python\" width=\"30\" height=\"auto\"> Wenn sie das verstanden haben, dann wird sie folgendes nicht (zu sehr) verwundern:"
      ]
    },
    {
      "cell_type": "code",
      "execution_count": null,
      "metadata": {
        "id": "pvtpypamMN1X",
        "outputId": "b741a341-36a4-4e55-bc31-e808327c9d38"
      },
      "outputs": [
        {
          "name": "stdout",
          "output_type": "stream",
          "text": [
            "Hello\n",
            "111\n",
            "222\n"
          ]
        }
      ],
      "source": [
        "a= \"Hello\"\n",
        "print(a)\n",
        "a= 111\n",
        "print(a)\n",
        "\n",
        "# more indirect using variable b:\n",
        "b= 222\n",
        "a= b\n",
        "print(a)"
      ]
    },
    {
      "cell_type": "markdown",
      "metadata": {
        "id": "50RrgCfNMN1X"
      },
      "source": [
        "Todo dasselbe vs. das gleich...siehe C++ Testat"
      ]
    },
    {
      "cell_type": "markdown",
      "metadata": {
        "id": "PBApIo9hMN1Y"
      },
      "source": [
        "### Eingebaute Datentypen von int bis str\n",
        "...für Objekte hinter den Variablen-Namen.\n",
        "Python kann über sich selbst \"reden\" (\"introspection\") (((Todo C++ auch etwas, aber das haben wir nicht behandelt)))\n",
        "\n",
        "<img src=\"https://github.com/wwalbrecht/stuff4students/blob/main/pics/python-logo-only.svg?raw=1\" alt=\"Python\" width=\"30\" height=\"auto\">"
      ]
    },
    {
      "cell_type": "code",
      "execution_count": null,
      "metadata": {
        "id": "DiukUhc3MN1Y",
        "outputId": "6bf122a8-64cb-42e9-cab1-dbaa108598e6"
      },
      "outputs": [
        {
          "data": {
            "text/plain": [
              "int"
            ]
          },
          "execution_count": 48,
          "metadata": {},
          "output_type": "execute_result"
        }
      ],
      "source": [
        "type(1)"
      ]
    },
    {
      "cell_type": "markdown",
      "metadata": {
        "id": "KwqNOHUWMN1Y"
      },
      "source": [
        "<img src=\"https://github.com/wwalbrecht/stuff4students/blob/main/pics/python-logo-only.svg?raw=1\" alt=\"Python\" width=\"30\" height=\"auto\"> verfügbare Datentypen..."
      ]
    },
    {
      "cell_type": "code",
      "execution_count": null,
      "metadata": {
        "id": "jPw3XptZMN1j",
        "outputId": "bc5c65ec-27e7-4d09-b179-7626ecf476ad"
      },
      "outputs": [
        {
          "name": "stdout",
          "output_type": "stream",
          "text": [
            "Numbers:  <class 'int'> <class 'float'> <class 'float'> <class 'complex'>\n",
            "More Types:  <class 'bool'> <class 'str'> <class 'str'>\n"
          ]
        }
      ],
      "source": [
        "print(\"Numbers: \", type(0), type(3.412), type(3.2e-12), type(1+2j))\n",
        "\n",
        "print(\"More Types: \", type(True), type(\"Hello\"), type('h'))\n"
      ]
    },
    {
      "cell_type": "markdown",
      "metadata": {
        "id": "JntSKuBTMN1k"
      },
      "source": [
        "<img src=\"https://github.com/wwalbrecht/stuff4students/blob/main/pics/python-logo-only.svg?raw=1\" alt=\"Python\" width=\"30\" height=\"auto\"> Einzelne Char gibt es nicht, aber man kann sie einzeln oder in Gruppen gut greifen:  "
      ]
    },
    {
      "cell_type": "code",
      "execution_count": null,
      "metadata": {
        "id": "LnHZILUXMN1k",
        "outputId": "c227e9a7-c58e-43a9-9464-daf9acadd28b"
      },
      "outputs": [
        {
          "name": "stdout",
          "output_type": "stream",
          "text": [
            "Hello\n",
            "H\n",
            "o\n",
            "el\n",
            "ello\n",
            "Hel\n"
          ]
        }
      ],
      "source": [
        "str1= \"Hello\"\n",
        "print(str1)\n",
        "print(str1[0])\n",
        "print(str1[-1])\n",
        "print(str1[1:3])\n",
        "print(str1[1:])\n",
        "print(str1[:3])"
      ]
    },
    {
      "cell_type": "markdown",
      "metadata": {
        "id": "pfHHQXyKMN1k"
      },
      "source": [
        "<img src=\"https://github.com/wwalbrecht/stuff4students/blob/main/pics/python-logo-only.svg?raw=1\" alt=\"Python\" width=\"30\" height=\"auto\"> Strings können auf vielfältige Arte notiert werden:"
      ]
    },
    {
      "cell_type": "code",
      "execution_count": null,
      "metadata": {
        "id": "XOesAWvQMN1l",
        "outputId": "2e1be472-a934-4fd8-ac8b-e1515895c2a2"
      },
      "outputs": [
        {
          "name": "stdout",
          "output_type": "stream",
          "text": [
            "so oder so oder so oder so\n",
            "und auch\n",
            "        ganz lang\n",
            "                sein\n"
          ]
        }
      ],
      "source": [
        "print('so',\"oder so\",'''oder so''',\"\"\"oder so\"\"\")\n",
        "\n",
        "print('''und auch\n",
        "        ganz lang\n",
        "                sein''')"
      ]
    },
    {
      "cell_type": "markdown",
      "metadata": {
        "id": "ieZc3OHSMN1l"
      },
      "source": [
        "### Listen, Tupel und Co. -- statt array\n",
        "\n",
        "Todo: Etwas siehe For-Schleife\n",
        "bis dahin: https://python.pages.doc.ic.ac.uk/cpp/lessons/cpp/04-seq/index.html\n",
        "\n",
        "...und dann auch \"Sets and Dictionaries\""
      ]
    },
    {
      "cell_type": "markdown",
      "metadata": {
        "id": "AvJvFTzbMN1m"
      },
      "source": [
        "## Kontrollfluss"
      ]
    },
    {
      "cell_type": "markdown",
      "metadata": {
        "id": "22lX6e5fMN1m"
      },
      "source": [
        "### For-Schleife  \n",
        "<img src=\"https://github.com/wwalbrecht/stuff4students/blob/main/pics/ISO_C++_Logo.svg?raw=1\" alt=\"C++\" width=\"30\" height=\"auto\">\n",
        "\n",
        "```cpp\n",
        "#include <iostream>  \n",
        "using namespace std;      \n",
        "    \n",
        "int main() {  \n",
        "    for(int i=1; i>=10;i++){\n",
        "        cout<<i<<endl;\n",
        "    };   \n",
        "    return 0;  \n",
        "}\n",
        "```"
      ]
    },
    {
      "cell_type": "markdown",
      "metadata": {
        "id": "Dn3tseNsMN1m"
      },
      "source": [
        "<img src=\"https://github.com/wwalbrecht/stuff4students/blob/main/pics/python-logo-only.svg?raw=1\" alt=\"Python\" width=\"30\" height=\"auto\">"
      ]
    },
    {
      "cell_type": "code",
      "execution_count": null,
      "metadata": {
        "trusted": true,
        "id": "Z28EHgpjMN1n",
        "outputId": "9203f1a3-b633-43c8-9a5c-c1728ee94293"
      },
      "outputs": [
        {
          "name": "stdout",
          "output_type": "stream",
          "text": [
            "1\n",
            "2\n",
            "3\n",
            "4\n",
            "5\n",
            "6\n",
            "7\n",
            "8\n",
            "9\n",
            "10\n"
          ]
        }
      ],
      "source": [
        "for i in range(1,11):\n",
        "    print(i)"
      ]
    },
    {
      "cell_type": "markdown",
      "metadata": {
        "id": "HT3ph3O_MN1n"
      },
      "source": [
        "#### Schleife mit Array bzw. List\n",
        "<img src=\"https://github.com/wwalbrecht/stuff4students/blob/main/pics/ISO_C++_Logo.svg?raw=1\" alt=\"C++\" width=\"30\" height=\"auto\">\n",
        "\n",
        "```cpp\n",
        "#include <iostream>  \n",
        "using namespace std;      \n",
        "    \n",
        "int main() {  \n",
        "   int myArray[]={1, 2, 3, 4, 5};\n",
        "    for(int i=1; i>=10;i++){\n",
        "       cout<<myArray[i]<<endl;\n",
        "    };\n",
        "    return 0;  \n",
        "}\n",
        "```"
      ]
    },
    {
      "cell_type": "markdown",
      "metadata": {
        "id": "kETvVOu9MN1n"
      },
      "source": [
        "Todo: zu Listen gibt es viel mehr...\n",
        "\n",
        "<img src=\"https://github.com/wwalbrecht/stuff4students/blob/main/pics/python-logo-only.svg?raw=1\" alt=\"Python\" width=\"30\" height=\"auto\"> Typisch: Liste statt Array in Pyhton. Beides via `[...]`\n"
      ]
    },
    {
      "cell_type": "code",
      "execution_count": null,
      "metadata": {
        "trusted": true,
        "id": "ARUg9DwLMN1o",
        "outputId": "c38b9bc7-ca11-4273-f6af-836683de3e16"
      },
      "outputs": [
        {
          "name": "stdout",
          "output_type": "stream",
          "text": [
            "1\n",
            "2\n",
            "3\n",
            "4\n",
            "5\n"
          ]
        }
      ],
      "source": [
        "myArray=[1, 2, 3, 4, 5];\n",
        "for i in myArray:\n",
        "    print(i)"
      ]
    },
    {
      "cell_type": "markdown",
      "metadata": {
        "id": "5jWo8TP8MN1o"
      },
      "source": [
        "### Switch\n",
        "<img src=\"https://github.com/wwalbrecht/stuff4students/blob/main/pics/ISO_C++_Logo.svg?raw=1\" alt=\"C++\" width=\"30\" height=\"auto\">\n",
        "\n",
        "```cpp\n",
        "#include <iostream>\n",
        "using namespace std;\n",
        "\n",
        "int main() {\n",
        "    char option;\n",
        "    cout << \"Eine der Operationen +-*/ auswählen: \";\n",
        "    cin >> option;\n",
        "    int x = 2, y = 3;\n",
        "    int result;\n",
        "\n",
        "    switch (option) {\n",
        "        case '+':\n",
        "            result = x + y;\n",
        "            break;\n",
        "        case '*':\n",
        "            result = x * y;\n",
        "            break;\n",
        "        case '-':\n",
        "            result = x - y;\n",
        "            break;\n",
        "        case '/':\n",
        "            result = x / y;\n",
        "            break;\n",
        "        default:\n",
        "            result = 000;\n",
        "            cout << \"Error!\" << endl;\n",
        "    }\n",
        "    cout << \"Ergebnis: \" << result << endl;\n",
        "    return 0;\n",
        "}\n",
        "\n",
        "```\n",
        "<img src=\"https://github.com/wwalbrecht/stuff4students/blob/main/pics/python-logo-only.svg?raw=1\" alt=\"Python\" width=\"30\" height=\"auto\">"
      ]
    },
    {
      "cell_type": "code",
      "execution_count": null,
      "metadata": {
        "id": "mANke5b_MN1o",
        "outputId": "f57c7446-fdcf-4189-dc1d-2b2e5ceea1d6"
      },
      "outputs": [
        {
          "name": "stdout",
          "output_type": "stream",
          "text": [
            "result: 5\n"
          ]
        }
      ],
      "source": [
        "option=input(\"Eined der Operationen +-*/ auswählen: \")\n",
        "x=2; y=3\n",
        "match option:\n",
        "    case \"+\":\n",
        "      result=x+y\n",
        "\n",
        "    case \"*\":\n",
        "      result=x*y\n",
        "\n",
        "    case \"-\":\n",
        "      result=x-y\n",
        "\n",
        "    case \"/\":\n",
        "      result=x/y\n",
        "\n",
        "    case _:\n",
        "      result=00000\n",
        "      print(\"Error!\\n\")\n",
        "print(f\"result: {result}\")"
      ]
    },
    {
      "cell_type": "markdown",
      "metadata": {
        "id": "NSFbsxViMN1p"
      },
      "source": [
        "## Funktionen\n",
        "<img src=\"https://github.com/wwalbrecht/stuff4students/blob/main/pics/ISO_C++_Logo.svg?raw=1\" alt=\"C++\" width=\"30\" height=\"auto\"> Ein Beispiel:\n",
        "\n",
        "```cpp\n",
        "#include <iostream>\n",
        "using namespace std;\n",
        "\n",
        "int addNumbers(int a, int b) {\n",
        "    int sum = a + b;\n",
        "    return sum;\n",
        "}\n",
        "\n",
        "int main() {\n",
        "    int num1 = 5, num2 = 10;\n",
        "    int result = addNumbers(num1, num2);\n",
        "    cout << \"The sum of \" << num1 << \" and \" << num2 << \" is: \" << result << endl;\n",
        "    return 0;\n",
        "}\n",
        "```\n",
        "<img src=\"https://github.com/wwalbrecht/stuff4students/blob/main/pics/python-logo-only.svg?raw=1\" alt=\"Python\" width=\"30\" height=\"auto\"> Das Schlüsselwort **def** leitet eine Funktion ein:"
      ]
    },
    {
      "cell_type": "code",
      "execution_count": null,
      "metadata": {
        "id": "IQ362_VzMN1p",
        "outputId": "dddc0c31-b61f-46b7-f9e3-0d44c0ee1a15"
      },
      "outputs": [
        {
          "name": "stdout",
          "output_type": "stream",
          "text": [
            "The sum of 5 and 10 is: 15\n"
          ]
        }
      ],
      "source": [
        "def addNumbers(a, b):\n",
        "    sum = a + b\n",
        "    return sum\n",
        "\n",
        "# Hauptprogramm\n",
        "num1 = 5\n",
        "num2 = 10\n",
        "result = addNumbers(num1, num2)\n",
        "print(\"The sum of\", num1, \"and\", num2, \"is:\", result)"
      ]
    },
    {
      "cell_type": "markdown",
      "metadata": {
        "id": "uUIdqjNSMN1p"
      },
      "source": [
        "...wie sie sehen: Datentypen für Paramter und Return-Wert werden nicht deklariert."
      ]
    },
    {
      "cell_type": "markdown",
      "metadata": {
        "id": "xHy0oGM-MN1q"
      },
      "source": [
        "### Default-Werte für Parameter\n",
        "\n",
        "....sehen genauso aus wie bei C++...\n",
        "\n",
        "<img src=\"https://github.com/wwalbrecht/stuff4students/blob/main/pics/python-logo-only.svg?raw=1\" alt=\"Python\" width=\"30\" height=\"auto\">"
      ]
    },
    {
      "cell_type": "code",
      "execution_count": null,
      "metadata": {
        "id": "_998TTV1MN1q",
        "outputId": "01dd4716-b083-49f0-ff31-a2d92e43b2ec"
      },
      "outputs": [
        {
          "name": "stdout",
          "output_type": "stream",
          "text": [
            "6\n",
            "3\n"
          ]
        }
      ],
      "source": [
        "def addNumbers(a=0, b=0, c=0):\n",
        "    sum = a + b + c\n",
        "    return sum\n",
        "\n",
        "print(addNumbers(1, 2, 3))\n",
        "print(addNumbers(1, 2))\n"
      ]
    },
    {
      "cell_type": "markdown",
      "metadata": {
        "id": "4yQkrQcQMN1q"
      },
      "source": [
        "### Kennworte für Parameter\n",
        "\n",
        "<img src=\"https://github.com/wwalbrecht/stuff4students/blob/main/pics/python-logo-only.svg?raw=1\" alt=\"Python\" width=\"30\" height=\"auto\">: Beim Aufruf der Funktion bei Parametern explizit notieren, um welchen Parameter es sich handelt."
      ]
    },
    {
      "cell_type": "code",
      "execution_count": null,
      "metadata": {
        "id": "ZYjpRl_5MN1q",
        "outputId": "6f4b2add-6b43-4da7-8a40-2546cd846549"
      },
      "outputs": [
        {
          "name": "stdout",
          "output_type": "stream",
          "text": [
            "a=1, b=2, width=3, length=4\n",
            "a=1, b=0, width=555, length=10\n"
          ]
        }
      ],
      "source": [
        "def func1( a, b=0, width= 5, length= 10):\n",
        "    print(f\"a={a}, b={b}, width={width}, length={length}\")\n",
        "    return\n",
        "\n",
        "func1(1, 2, 3, 4)\n",
        "func1(1, width=555)"
      ]
    },
    {
      "cell_type": "markdown",
      "metadata": {
        "id": "-Y0S41nAMN1q"
      },
      "source": [
        "Bei C++ gibt es seit C++20 etwas ähnliches (designated initializers -- die sind aber nicht so einfach wie bei Python)."
      ]
    },
    {
      "cell_type": "markdown",
      "metadata": {
        "id": "wlIgdS4aMN1r"
      },
      "source": [
        "#### Mehrere Rückgabewerte auf einen Schlag\n",
        "\n",
        "<img src=\"https://github.com/wwalbrecht/stuff4students/blob/main/pics/python-logo-only.svg?raw=1\" alt=\"Python\" width=\"30\" height=\"auto\"> In Python können mehrere Zuweisungen auf ein Schlag vorgenommen werden können."
      ]
    },
    {
      "cell_type": "code",
      "execution_count": null,
      "metadata": {
        "id": "NE9NXqlhMN1r",
        "outputId": "53cfe165-34b3-45a8-e46f-ba1eb97b6c5b"
      },
      "outputs": [
        {
          "name": "stdout",
          "output_type": "stream",
          "text": [
            "a=1, b=2\n"
          ]
        }
      ],
      "source": [
        "a ,b = 1, 2\n",
        "print(f\"a={a}, b={b}\")"
      ]
    },
    {
      "cell_type": "markdown",
      "metadata": {
        "id": "fdc8WQ1KMN1r"
      },
      "source": [
        "...das ist praktisch wenn eine Funktion mehreres zurückgeben soll..."
      ]
    },
    {
      "cell_type": "code",
      "execution_count": null,
      "metadata": {
        "id": "6USD-PT4MN1r",
        "outputId": "a5dc9660-c3bd-465c-f7bd-ae864cab8f91"
      },
      "outputs": [
        {
          "name": "stdout",
          "output_type": "stream",
          "text": [
            "x=3, y=2\n"
          ]
        }
      ],
      "source": [
        "def calc(a, b):\n",
        "    sum = a + b\n",
        "    product = a * b\n",
        "    return sum, product\n",
        "\n",
        "x, y = calc(1, 2)\n",
        "print(f\"x={x}, y={y}\")"
      ]
    },
    {
      "cell_type": "markdown",
      "metadata": {
        "id": "xBEbEtO0MN1s"
      },
      "source": [
        "....alternativ kann aber auch die (automatisch gebildete) Liste entgegen genommen werden..."
      ]
    },
    {
      "cell_type": "code",
      "execution_count": null,
      "metadata": {
        "id": "iTgCs7ZDMN1s",
        "outputId": "223bf606-c4df-4875-d3a1-6903215b1214"
      },
      "outputs": [
        {
          "name": "stdout",
          "output_type": "stream",
          "text": [
            "(3, 2)\n"
          ]
        }
      ],
      "source": [
        "result_list= calc(1, 2)\n",
        "print(result_list)"
      ]
    },
    {
      "cell_type": "markdown",
      "metadata": {
        "id": "FHxWSfrAMN1s"
      },
      "source": [
        "### Ein paar Beispiel-Funktionen"
      ]
    },
    {
      "cell_type": "markdown",
      "metadata": {
        "id": "kUQg5iyaMN1s"
      },
      "source": [
        "#### Max-Funktion\n",
        "Zum Finden des maximalen Werts\n",
        "<img src=\"https://github.com/wwalbrecht/stuff4students/blob/main/pics/ISO_C++_Logo.svg?raw=1\" alt=\"C++\" width=\"30\" height=\"auto\">\n",
        "\n",
        "```cpp\n",
        "#include <iostream>\n",
        "using namespace std;\n",
        "\n",
        "int main() {\n",
        "    int myArray[5] = {12, 56, 34, 89, 17};\n",
        "    int maxValue = myArray[0];\n",
        "    for (int i = 1; i < 5; ++i) {\n",
        "        if (myArray[i] > maxValue) {\n",
        "            maxValue = myArray[i];\n",
        "        }\n",
        "    }\n",
        "    cout << \"The maximum value in the array is: \" << maxValue << endl;\n",
        "    return 0;\n",
        "}\n",
        "```\n",
        "<img src=\"https://github.com/wwalbrecht/stuff4students/blob/main/pics/python-logo-only.svg?raw=1\" alt=\"Python\" width=\"30\" height=\"auto\"> ...mit Listen"
      ]
    },
    {
      "cell_type": "code",
      "execution_count": null,
      "metadata": {
        "trusted": true,
        "id": "w1GYYXdjMN1s",
        "outputId": "155273e4-5e13-42fb-fbe5-4110c8656775"
      },
      "outputs": [
        {
          "name": "stdout",
          "output_type": "stream",
          "text": [
            "The maximum value in the array is: 89\n"
          ]
        }
      ],
      "source": [
        "myList = [12, 56, 34, 89, 17]\n",
        "maxValue = max(myList)\n",
        "print(\"The maximum value in the array is:\", maxValue)"
      ]
    },
    {
      "cell_type": "markdown",
      "metadata": {
        "id": "D8TQ0R9UMN1t"
      },
      "source": [
        "#### Min-Funktion\n",
        "Zum Finden des minimalen Werts\n",
        "<img src=\"https://github.com/wwalbrecht/stuff4students/blob/main/pics/ISO_C++_Logo.svg?raw=1\" alt=\"C++\" width=\"30\" height=\"auto\">\n",
        "\n",
        "```cpp\n",
        "#include <iostream>\n",
        "using namespace std;\n",
        "\n",
        "int main() {\n",
        "    int myArray[5] = {12, 56, 34, 89, 17};\n",
        "    int minValue = myArray[0];\n",
        "    for (int i = 1; i < 5; ++i) {\n",
        "        if (myArray[i] < minValue) {\n",
        "            minValue = myArray[i];\n",
        "        }\n",
        "    }\n",
        "    cout << \"The minimum value in the array is: \" << minValue << endl;\n",
        "    return 0;\n",
        "}\n",
        "```\n",
        "<img src=\"https://github.com/wwalbrecht/stuff4students/blob/main/pics/python-logo-only.svg?raw=1\" alt=\"Python\" width=\"30\" height=\"auto\"> wieder mit Liste"
      ]
    },
    {
      "cell_type": "code",
      "execution_count": null,
      "metadata": {
        "trusted": true,
        "id": "rzUdpMN7MN1t",
        "outputId": "1c0b0548-bb8c-400e-abe0-acb3f247573e"
      },
      "outputs": [
        {
          "name": "stdout",
          "output_type": "stream",
          "text": [
            "The minimum value in the array is: 12\n"
          ]
        }
      ],
      "source": [
        "myArray = [12, 56, 34, 89, 17]\n",
        "minValue = min(myArray)\n",
        "print(\"The minimum value in the array is:\", minValue)"
      ]
    },
    {
      "cell_type": "markdown",
      "metadata": {
        "id": "rlhw18JBMN1t"
      },
      "source": [
        "#### Swap-Funktion\n",
        "<img src=\"https://github.com/wwalbrecht/stuff4students/blob/main/pics/ISO_C++_Logo.svg?raw=1\" alt=\"C++\" width=\"30\" height=\"auto\">\n",
        "\n",
        "```cpp\n",
        "#include <iostream>\n",
        "using namespace std;\n",
        "\n",
        "void swap(int &a, int &b) {\n",
        "    int temp = a;\n",
        "    a = b;\n",
        "    b = temp;\n",
        "}\n",
        "int main() {\n",
        "    int num1 = 10;\n",
        "    int num2 = 20;\n",
        "    cout << \"Before the swap: num1 = \" << num1 << \", num2 = \" << num2 << endl;\n",
        "    swap(num1, num2);\n",
        "    cout << \"After the swap: num1 = \" << num1 << \", num2 = \" << num2 << endl;\n",
        "    return 0;\n",
        "}\n",
        "\n",
        "```\n",
        "<img src=\"https://github.com/wwalbrecht/stuff4students/blob/main/pics/python-logo-only.svg?raw=1\" alt=\"Python\" width=\"30\" height=\"auto\"> ohne Hilfsvariabel, da in Python auf ein mal mehrere Zuweisungen vorgenommen werden können."
      ]
    },
    {
      "cell_type": "code",
      "execution_count": null,
      "metadata": {
        "trusted": true,
        "id": "Gn8KL6siMN1t",
        "outputId": "cb579b2f-62eb-4814-b6a1-da1e5b62a336"
      },
      "outputs": [
        {
          "name": "stdout",
          "output_type": "stream",
          "text": [
            "Before the swap: num1 = 10 , num2 = 20\n",
            "After the swap: num1 = 20 , num2 = 10\n"
          ]
        }
      ],
      "source": [
        "num1 = 10\n",
        "num2 = 20\n",
        "print(\"Before the swap: num1 =\", num1, \", num2 =\", num2)\n",
        "num1, num2 = num2, num1\n",
        "print(\"After the swap: num1 =\", num1, \", num2 =\", num2)"
      ]
    },
    {
      "cell_type": "markdown",
      "metadata": {
        "id": "cIIu9jmGMN1u"
      },
      "source": [
        "## Klassen"
      ]
    },
    {
      "cell_type": "markdown",
      "metadata": {
        "id": "yCjVAZbjMN1u"
      },
      "source": [
        "### Klassen: Ein Beispiel\n",
        "\n",
        "<img src=\"https://github.com/wwalbrecht/stuff4students/blob/main/pics/ISO_C++_Logo.svg?raw=1\" alt=\"C++\" width=\"30\" height=\"auto\">\n",
        "\n",
        "```cpp\n",
        "#include <iostream>\n",
        "using namespace std;\n",
        "\n",
        "class Shape {\n",
        "public:\n",
        "    Shape() {\n",
        "        cout << \"Shape constructor called.\" << endl;}\n",
        "\n",
        "    virtual double area() const {\n",
        "        return 0.0; }\n",
        "};\n",
        "\n",
        "int main() {\n",
        "    Shape shape;\n",
        "    double area = shape.area();\n",
        "    cout << \"The area of the shape is: \" << area << endl;\n",
        "    return 0;\n",
        "}\n",
        "```\n",
        "<img src=\"https://github.com/wwalbrecht/stuff4students/blob/main/pics/python-logo-only.svg?raw=1\" alt=\"Python\" width=\"30\" height=\"auto\">"
      ]
    },
    {
      "cell_type": "code",
      "execution_count": null,
      "metadata": {
        "trusted": true,
        "id": "mycwINtQMN1u",
        "outputId": "03e55687-1d82-4003-e7f2-8871d20d4b58"
      },
      "outputs": [
        {
          "name": "stdout",
          "output_type": "stream",
          "text": [
            "Shape constructor called.\n",
            "The area of the shape is: 0.0\n"
          ]
        }
      ],
      "source": [
        "class Shape:\n",
        "    def __init__(self):\n",
        "        print(\"Shape constructor called.\")\n",
        "\n",
        "    def area(self):\n",
        "        return 0.0\n",
        "shape = Shape()\n",
        "area = shape.area()\n",
        "print(\"The area of the shape is:\", area)"
      ]
    },
    {
      "cell_type": "markdown",
      "metadata": {
        "id": "AhNC6O_eMN1u"
      },
      "source": [
        "### Konstruktor\n",
        "<img src=\"https://github.com/wwalbrecht/stuff4students/blob/main/pics/ISO_C++_Logo.svg?raw=1\" alt=\"C++\" width=\"30\" height=\"auto\">\n",
        "\n",
        "```cpp\n",
        "#include <iostream>\n",
        "using namespace std;\n",
        "\n",
        "class Person {\n",
        "public:\n",
        "    Person() {\n",
        "        cout << \"I created a person! It's alive!\" << endl;\n",
        "    }\n",
        "};\n",
        "\n",
        "int main() {\n",
        "    Person manager;\n",
        "    cout << &manager << endl;\n",
        "    return 0;\n",
        "}\n",
        "\n",
        "```\n",
        "<img src=\"https://github.com/wwalbrecht/stuff4students/blob/main/pics/python-logo-only.svg?raw=1\" alt=\"Python\" width=\"30\" height=\"auto\">\n",
        "`__init__(self):` dient als Konstruktor in Python und wird sofort ausgeführt, wenn ein Objekt der Klasse ausgelegt wird."
      ]
    },
    {
      "cell_type": "code",
      "execution_count": null,
      "metadata": {
        "id": "c6ghv0C7MN1v",
        "outputId": "9bc388bf-eb80-4d4e-c409-6ee087a0524d"
      },
      "outputs": [
        {
          "name": "stdout",
          "output_type": "stream",
          "text": [
            "I created a person! It's alive!\n",
            "<__main__.Person object at 0x000001C84AAC9660>\n"
          ]
        }
      ],
      "source": [
        "class Person:\n",
        "    def __init__(self):\n",
        "        print(\"I created a person! It's alive!\")\n",
        "\n",
        "manager = Person()\n",
        "print(manager)"
      ]
    },
    {
      "cell_type": "markdown",
      "metadata": {
        "id": "i_JjfiZDMN1v"
      },
      "source": [
        "### Parameter-Konstuktor\n",
        "<img src=\"https://github.com/wwalbrecht/stuff4students/blob/main/pics/ISO_C++_Logo.svg?raw=1\" alt=\"C++\" width=\"30\" height=\"auto\">\n",
        "\n",
        "```cpp\n",
        "#include <iostream>\n",
        "#include <string>\n",
        "using namespace std;\n",
        "\n",
        "class Person {\n",
        "public:\n",
        "    string name;\n",
        "    int age;\n",
        "    string nationality;\n",
        "    Person(string name, int age, string nationality = \"uk\") : name(name), age(age), nationality(nationality) {}\n",
        "};\n",
        "\n",
        "int main() {\n",
        "    Person manager(\"Ashraf\", 20, \"malaysia\");\n",
        "    cout << manager.name << endl;\n",
        "    cout << manager.nationality << endl;\n",
        "    manager.age = 24;\n",
        "    cout << manager.age << endl;\n",
        "    return 0;\n",
        "}\n",
        "```\n",
        "<img src=\"https://github.com/wwalbrecht/stuff4students/blob/main/pics/python-logo-only.svg?raw=1\" alt=\"Python\" width=\"30\" height=\"auto\">\n",
        "`self` in Python ist ähnlich zu `This` in C++"
      ]
    },
    {
      "cell_type": "code",
      "execution_count": null,
      "metadata": {
        "id": "61SCFZ_ZMN1v",
        "outputId": "97c87aa1-01d5-4e5c-9755-42ef93bd49af"
      },
      "outputs": [
        {
          "name": "stdout",
          "output_type": "stream",
          "text": [
            "Ashraf\n",
            "malaysia\n",
            "24\n"
          ]
        }
      ],
      "source": [
        "class Person:\n",
        "    def __init__(self, name, age, nationality=\"uk\"):\n",
        "        self.name = name\n",
        "        self.age = age\n",
        "        self.nationality = nationality\n",
        "\n",
        "manager = Person(\"Ashraf\", 20, \"malaysia\")\n",
        "print(manager.name)\n",
        "print(manager.nationality)\n",
        "manager.age = 24\n",
        "print(manager.age)"
      ]
    },
    {
      "cell_type": "markdown",
      "metadata": {
        "id": "6UXsQRYfMN1v"
      },
      "source": [
        "### Vererbung\n",
        "<img src=\"https://github.com/wwalbrecht/stuff4students/blob/main/pics/ISO_C++_Logo.svg?raw=1\" alt=\"C++\" width=\"30\" height=\"auto\">\n",
        "\n",
        "```cpp\n",
        "#include <iostream>\n",
        "#include <string>\n",
        "using namespace std;\n",
        "\n",
        "class GameCharacter {\n",
        "protected:\n",
        "    string name;\n",
        "    int health, strength, defence;\n",
        "public:\n",
        "    GameCharacter(string name, int health = 50, int strength = 30, int defence = 20)\n",
        "        : name(name), health(health), strength(strength), defence(defence) {}\n",
        "};\n",
        "\n",
        "class Villain : public GameCharacter {\n",
        "public:\n",
        "    Villain(string name, int health = 60, int strength = 30, int defence = 20, int evilness = 50)\n",
        "        : GameCharacter(name, health, strength, defence), evilness(evilness) {}\n",
        "\n",
        "int main() {\n",
        "    GameCharacter boy(\"Boy\", 100, 20, 10);\n",
        "    Villain evilman(\"Voldemort\", 30, 50, 40, 100);\n",
        "    cout << boy.getHealth() << endl;\n",
        "    cout << evilman.getHealth() << endl;\n",
        "    return 0;\n",
        "}\n",
        "```\n",
        "<img src=\"https://github.com/wwalbrecht/stuff4students/blob/main/pics/python-logo-only.svg?raw=1\" alt=\"Python\" width=\"30\" height=\"auto\">"
      ]
    },
    {
      "cell_type": "code",
      "execution_count": null,
      "metadata": {
        "id": "KQY2SLE-MN1w",
        "outputId": "d14c4b18-e60d-4652-aa9b-8abfbf688063"
      },
      "outputs": [
        {
          "name": "stdout",
          "output_type": "stream",
          "text": [
            "100\n",
            "30\n"
          ]
        }
      ],
      "source": [
        "class GameCharacter:\n",
        "    def __init__(self, name, health=50, strength=30, defence=20):\n",
        "        self.name = name\n",
        "        self.health = health\n",
        "        self.strength = strength\n",
        "        self.defence = defence\n",
        "\n",
        "class Villain(GameCharacter):\n",
        "    def __init__(self, name, health=60, strength=30, defence=20, evilness=50):\n",
        "        super().__init__(name, health, strength, defence)\n",
        "        self.evilness = 50\n",
        "\n",
        "boy = GameCharacter(\"Boy\", 100, 20, 10)\n",
        "evilman = Villain(\"Voldemort\", 30, 50, 40, 100)\n",
        "print(boy.health)\n",
        "print(evilman.health)"
      ]
    },
    {
      "cell_type": "markdown",
      "metadata": {
        "id": "1WSHF7hQMN1w"
      },
      "source": [
        "### Kapselung\n",
        "<img src=\"https://github.com/wwalbrecht/stuff4students/blob/main/pics/ISO_C++_Logo.svg?raw=1\" alt=\"C++\" width=\"30\" height=\"auto\">\n",
        "\n",
        "```cpp\n",
        "#include <iostream>\n",
        "#include <string>\n",
        "using namespace std;\n",
        "\n",
        "class Person {\n",
        "private:\n",
        "    int age;\n",
        "public:\n",
        "    string name;\n",
        "    Person(string name, int age) : name(name), age(age) {}\n",
        "    int getAge() { return age; }\n",
        "};\n",
        "int main() {\n",
        "    Person person(\"John Doe\", 30);\n",
        "    cout << \"Age: \" << person.getAge() << endl;\n",
        "    return 0;\n",
        "}\n",
        "```\n",
        "<img src=\"https://github.com/wwalbrecht/stuff4students/blob/main/pics/python-logo-only.svg?raw=1\" alt=\"Python\" width=\"30\" height=\"auto\">"
      ]
    },
    {
      "cell_type": "code",
      "execution_count": null,
      "metadata": {
        "id": "6kHoA53qMN1w",
        "outputId": "a5e57c93-dfb9-4a94-9872-54f53e18db71"
      },
      "outputs": [
        {
          "name": "stdout",
          "output_type": "stream",
          "text": [
            "Name: John Doe\n",
            "Age: 30\n"
          ]
        }
      ],
      "source": [
        "class Person:\n",
        "    def __init__(self, name, age=18):\n",
        "        self.name = name\n",
        "        self.__age = age\n",
        "\n",
        "    def get_age(self):\n",
        "        return self.__age\n",
        "person = Person(\"John Doe\", 30)\n",
        "print(\"Name:\", person.name)\n",
        "print(\"Age:\", person.get_age())"
      ]
    }
  ],
  "metadata": {
    "colab": {
      "gpuType": "T4",
      "provenance": [],
      "toc_visible": true,
      "include_colab_link": true
    },
    "kernelspec": {
      "display_name": "Python 3",
      "name": "python3"
    },
    "language_info": {
      "codemirror_mode": {
        "name": "ipython",
        "version": 3
      },
      "file_extension": ".py",
      "mimetype": "text/x-python",
      "name": "python",
      "nbconvert_exporter": "python",
      "pygments_lexer": "ipython3",
      "version": "3.10.8"
    }
  },
  "nbformat": 4,
  "nbformat_minor": 0
}