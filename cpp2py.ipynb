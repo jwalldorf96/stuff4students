{
  "cells": [
    {
      "cell_type": "markdown",
      "metadata": {
        "colab_type": "text",
        "id": "view-in-github"
      },
      "source": [
        "<a href=\"https://colab.research.google.com/github/wwalbrecht/stuff4students/blob/main/cpp2py.ipynb\" target=\"_parent\"><img src=\"https://colab.research.google.com/assets/colab-badge.svg\" alt=\"Open In Colab\"/></a>"
      ]
    },
    {
      "cell_type": "markdown",
      "metadata": {
        "id": "aAsX4EvQw90t"
      },
      "source": [
        "# Allgemeines zur Jupyter Notebooks und zur Initialisierung\n",
        "Bei Jupyter Notebooks https://jupyter.org/ kann Text mit Programm-Code gemischt werden.\n",
        "\n",
        "Damit sie zur Ausführung keine lokalen Installationen benötigen, benutzen wir die Cloud von Google Colab https://colab.research.google.com/?hl=de. Dafür brauchen sie leider ein **Konto bei google**. Eine lokale Installation ist auch möglich, aber wegen des C++ Compilers aufwendig. Falls sie nur den Python Code ausführen möchten, dann können sie auch eine lokale Installtion oder z.B. Visual Studio Code nutzen. Aktuelle Anleitungen finden sie im Web.\n",
        "\n",
        "### Das Wichtigste für die **Bedienung**: \n",
        "- Zum Ausführen einer Zelle mit Programmcode entweder auf das Dreieck-Icon klicken, oder *Shift+Enter*.\n",
        "- In Jupyter Notebooks gibt es auch ein Menu (meist ganz oben), mit dem Sie z.B. die Ausführung neu starten können.\n",
        "- Ein Inhaltsverzeichnis/ eine Gliederung des Notebooks wird (meist links daneben) auch angezeigt. \n",
        "- Sie können sowohl die Zellen mit Text (in einfacher Markdown-Syntax), also aus die Zellen mit Code editieren; mit Doppelklick.\n",
        "- Wenn sie damit fertig sind: Rechts oben ein Haken d'ran, oder *Ctrl+Enter*"
      ]
    },
    {
      "cell_type": "markdown",
      "metadata": {},
      "source": [
        "<img src=\"pics/python-logo-only.svg\" alt=\"Python\" width=\"30\" height=\"auto\"> \n",
        "Vorab ein kurzer Gruss von Python-Code, dem eingebauten 'Favoriten' bei Jupyter Notebooks:\n",
        "\n"
      ]
    },
    {
      "cell_type": "code",
      "execution_count": 1,
      "metadata": {
        "id": "NgJSWXEf1ZKf"
      },
      "outputs": [
        {
          "name": "stdout",
          "output_type": "stream",
          "text": [
            "Vorab ein kurzer Gruss von Python-Code, dem eingebauten 'Favoriten' bei Jupyter Notebooks.\n"
          ]
        }
      ],
      "source": [
        "print(\"Vorab ein kurzer Gruss von Python-Code, dem eingebauten 'Favoriten' bei Jupyter Notebooks.\")"
      ]
    },
    {
      "cell_type": "markdown",
      "metadata": {},
      "source": [
        "### Sicherung bei Nutzung von Colab via Google Drive \n",
        "Falls sie ihre Ergebnisse/Ausgaben bei der Nutzung in Colab speichern möchten, dann nutzen sie folgende Zeilen, um ihr google-Drive zu verbinden."
      ]
    },
    {
      "cell_type": "code",
      "execution_count": null,
      "metadata": {},
      "outputs": [],
      "source": [
        "from google.colab import drive\n",
        "drive.mount('/content/drive')"
      ]
    },
    {
      "cell_type": "markdown",
      "metadata": {
        "id": "ra9j3V0XQJ_s"
      },
      "source": [
        "### Nötige Initialisierungen für C++\n",
        "\n",
        "Für C++ müssen Installationen gemacht (und ausgeführt) werden, damit im Notebook das \"cell magic\" %%cu für den Compiler verfügbar ist. (Quelle: https://www.geeksforgeeks.org/how-to-run-cuda-c-c-on-jupyter-notebook-in-google-colaboratory/)\n",
        "\n",
        "Falls sie dieses Notebook in Colab geöffnet haben, dann führen sie jetzt diesen Code-Block aus! Zum Ausführen des Programm-Code gehen sie mit der Maus über die nächste Zelle (Code Block) und klicken auf den Pfeil (Dreieck) daneben.\n",
        "\n",
        "(Für Interessierte: Mit '!' am Anfang der Zeil werden hier Befehle an die Konsole des Servers geschickt.)"
      ]
    },
    {
      "cell_type": "code",
      "execution_count": null,
      "metadata": {
        "id": "fyVDClX4P3WX"
      },
      "outputs": [],
      "source": [
        "!echo \"*** 1.)  Test if NVIDIA(R)-cuda-compiler-driver is availabe...\"\n",
        "!nvcc --version\n",
        "!echo \"*** 2.) Install extension to run nvcc ...\"\n",
        "!pip install git+https://github.com/andreinechaev/nvcc4jupyter.git\n",
        "!echo \"*** 3.) Load extension using a 'line magic %' command....\"\n",
        "%load_ext nvcc_plugin"
      ]
    },
    {
      "cell_type": "markdown",
      "metadata": {
        "id": "IvvCXgAEOR52"
      },
      "source": [
        "### Hello World from Jupyter Notebook\n",
        "\n",
        "<img src=\"pics/ISO_C++_Logo.svg\" alt=\"C++\" width=\"30\" height=\"auto\">\n",
        "Falls die Installationen geklappt haben, dann sollten sie jetzt auch folgendes ausführen können."
      ]
    },
    {
      "cell_type": "code",
      "execution_count": null,
      "metadata": {
        "id": "GDXqDlB-PnvJ"
      },
      "outputs": [],
      "source": [
        "%%cu\n",
        "#include <iostream>\n",
        "int\tmain(void) {\n",
        "\tstd::cout << \"Welcome To C++!\\n\";\n",
        "\treturn 0;\n",
        "}"
      ]
    },
    {
      "cell_type": "markdown",
      "metadata": {},
      "source": [
        "Probleme? \n",
        "> Sehen sie statt der Ausgabe nur \"*UsageError: Cell magic `%%cu` not found.*\"?\n",
        "> Haben sie den Code-Block darüber schon ausgeführt?\n",
        "> (Wundern sie sich nicht über die Unterstrich-Markierungen des Editors -- der denkt leider er hätte Python-Code vor sich.)"
      ]
    },
    {
      "cell_type": "markdown",
      "metadata": {},
      "source": [
        "*Damit sollten die Initialisierungen erledigt sein und der Hauptteil kann starten.*"
      ]
    },
    {
      "cell_type": "markdown",
      "metadata": {},
      "source": [
        "# C++ vs. Python in Beispielen"
      ]
    },
    {
      "cell_type": "markdown",
      "metadata": {},
      "source": [
        "# Main-Funktion\n",
        "### Python braucht keine `main`-Funktion wie C++\n",
        "\n",
        "#### C++:"
      ]
    },
    {
      "cell_type": "code",
      "execution_count": null,
      "metadata": {},
      "outputs": [],
      "source": [
        "%%cu\n",
        "#include <iostream>\n",
        "int\tmain(void) {\n",
        "\tstd::cout << \"Welcome To C++!\\n\";\n",
        "\treturn 0;\n",
        "}"
      ]
    },
    {
      "cell_type": "markdown",
      "metadata": {},
      "source": [
        "#### Python:\n",
        "Es werden alle Anweisungen in der Datei ausgeführt (sofern sie nicht in Funktionen oder Klassen stehen).\n",
        "Spätestens beim Arbeiten mit mehreren Dateien/Skripten ist es sinnvoll die Ausführung mit einer speziellen Art \"\\_\\_main\\_\\_\"-Funktion genauer zu steuern."
      ]
    },
    {
      "cell_type": "code",
      "execution_count": 4,
      "metadata": {},
      "outputs": [
        {
          "name": "stdout",
          "output_type": "stream",
          "text": [
            "Hello from anywhere in the file!\n",
            "Hello from Python-Script!\n"
          ]
        }
      ],
      "source": [
        "print(\"Hello from anywhere in the file!\") \n",
        "\n",
        "if __name__ == '__main__': # only if run as a script\n",
        "    print(\"Hello from Python-Script!\")"
      ]
    },
    {
      "cell_type": "markdown",
      "metadata": {},
      "source": [
        "# Formatierung und Co.\n",
        "\n",
        "Wie Sie bemerkt haben, gibt es in Python keine Semikolon am Ende jeder Anweisung wie in C++, C oder auch in Java. Aber es schadet nicht, wenn man sie schreibt."
      ]
    },
    {
      "cell_type": "code",
      "execution_count": 2,
      "metadata": {
        "trusted": true
      },
      "outputs": [
        {
          "name": "stdout",
          "output_type": "stream",
          "text": [
            "Hello without semicolon\n",
            "Hello with semicolon\n"
          ]
        }
      ],
      "source": [
        "print(\"Hello without semicolon\")\n",
        "print(\"Hello with semicolon\");"
      ]
    },
    {
      "cell_type": "markdown",
      "metadata": {},
      "source": [
        "# Eingabe\n",
        "#### 1- Teil C++:\n",
        "Eingabe bei C++ mit cin:"
      ]
    },
    {
      "cell_type": "code",
      "execution_count": null,
      "metadata": {},
      "outputs": [],
      "source": [
        "%%cu\n",
        "#include <iostream>  \n",
        "#include <string>  \n",
        "using namespace std;\n",
        "int main() {  \n",
        "    cout << \"Please enter a number!\"<<endl;\n",
        "    int number;\n",
        "    cin >> numer;\n",
        "    cout << \"The numer is: \"  << number << endl;\n",
        "\n",
        "    cout << \"Please enter a string!\"<<endl;\";\n",
        "    string str_input;\n",
        "    cin >> str_input;\n",
        "    cout << \"The string is: \" << str_input << endl;\n",
        "\n",
        "    return 0;  \n",
        "}"
      ]
    },
    {
      "cell_type": "markdown",
      "metadata": {},
      "source": [
        "#### 2- Teil Pyton:\n",
        "In Python ist die Eingabe immer als String, daher benutzt man int() für eine Zahleingabe."
      ]
    },
    {
      "cell_type": "code",
      "execution_count": 4,
      "metadata": {
        "tags": [],
        "trusted": true
      },
      "outputs": [
        {
          "name": "stdout",
          "output_type": "stream",
          "text": [
            "2\n",
            "The entered string is: \n",
            "asdf\n"
          ]
        }
      ],
      "source": [
        "number = int(input(\"Please enter a number: \"))\n",
        "print(\"The number is: \")\n",
        "print(number)\n",
        "\n",
        "str_input= input(\"Please enter a string!\\n\")\n",
        "print(\"The string is: \")\n",
        "print(str_input)"
      ]
    },
    {
      "cell_type": "markdown",
      "metadata": {},
      "source": [
        "##### Es gibt in Python sozusagen f-format für die Ausgabe. Dies ist einfacher und lesbarer.  \n",
        "Z.B. das obige Beispiel kann so geschrieben werden:"
      ]
    },
    {
      "cell_type": "code",
      "execution_count": 8,
      "metadata": {
        "trusted": true
      },
      "outputs": [
        {
          "name": "stdout",
          "output_type": "stream",
          "text": [
            "The entered string is: Ashraf!\n",
            "\n"
          ]
        }
      ],
      "source": [
        "print(f\"The entered string is: {str_input}!\\n\")"
      ]
    },
    {
      "cell_type": "markdown",
      "metadata": {},
      "source": [
        "[Zurück zum Verzeichnis](#Verzeichnis)\n",
        "# Variablendiklaration\n",
        "#### Im Gegensatz zu C++ gibt es in Python keine Variablendiklaration.\n",
        "#### 1- Teil C++\n",
        "```cpp\n",
        "#include <iostream>  \n",
        "using namespace std;      \n",
        "    \n",
        "int main() {  \n",
        "    string variable1= \"Hello\";\n",
        "    float variable2= 3.14\n",
        "    int variable3= 3;   \n",
        "    return 0;  \n",
        "}\n",
        "```\n",
        "#### 2- Teil Python"
      ]
    },
    {
      "cell_type": "code",
      "execution_count": 21,
      "metadata": {
        "trusted": true
      },
      "outputs": [],
      "source": [
        "variable1= \"Hello\"\n",
        "variable2= 3.14\n",
        "variable3= 3"
      ]
    },
    {
      "cell_type": "markdown",
      "metadata": {},
      "source": [
        "[Zurück zum Verzeichnis](#Verzeichnis)\n",
        "# Einrückungen und Blöcke  \n",
        "Statt der Blöcken von C++ mit geschweiften Klammern `{` `}` verwendet Python Einrückung und dafür als Einleitung ein `:`   \n",
        "#### 1- Teil C++\n",
        "```cpp\n",
        "#include <iostream>  \n",
        "using namespace std;  \n",
        "\n",
        "void print_func(void){\n",
        "    cout<<\"Print function is working!\"<<endl;\n",
        "}\n",
        "int main() {  \n",
        "    print_func();\n",
        "    return 0;  \n",
        "}\n",
        "```\n",
        "#### 2- Teil Python\n",
        "\n",
        "Empfohlen sind 4 Leerzeichen zur Einrückung -- mischen sie nicht unterschiedliche Varianten, oder Tabs."
      ]
    },
    {
      "cell_type": "code",
      "execution_count": 10,
      "metadata": {
        "trusted": true
      },
      "outputs": [
        {
          "name": "stdout",
          "output_type": "stream",
          "text": [
            "print_func is working\n",
            "\n"
          ]
        }
      ],
      "source": [
        "def print_func():\n",
        "    print(\"print_func is working\\n\")\n",
        "    \n",
        "print_func()"
      ]
    },
    {
      "cell_type": "markdown",
      "metadata": {},
      "source": [
        "[Zurück zum Verzeichnis](#Verzeichnis)\n",
        "# Kommentare  \n",
        "In C++ benutzt man `//` in Python aber `#`\n",
        "#### 1- Teil C++\n",
        "```cpp\n",
        "#include <iostream>  \n",
        "using namespace std; \n",
        "\n",
        "int main() {  \n",
        "    // this is a comment in C++\n",
        "    return 0;  \n",
        "}\n",
        "```\n",
        "#### 2- Teil Python\n"
      ]
    },
    {
      "cell_type": "code",
      "execution_count": 11,
      "metadata": {
        "trusted": true
      },
      "outputs": [],
      "source": [
        "# Ths is a comment in Python"
      ]
    },
    {
      "cell_type": "markdown",
      "metadata": {},
      "source": [
        "[Zurück zum Verzeichnis](#Verzeichnis)\n",
        "# For-Schleife  \n",
        "#### 1- Teil C++\n",
        "```cpp\n",
        "#include <iostream>  \n",
        "using namespace std;      \n",
        "    \n",
        "int main() {  \n",
        "    for(int i=1; i>=10;i++){\n",
        "    cout<<i<<endl;\n",
        "    };   \n",
        "    return 0;  \n",
        "}\n",
        "```\n",
        "#### 2- Teil Python"
      ]
    },
    {
      "cell_type": "code",
      "execution_count": 12,
      "metadata": {
        "trusted": true
      },
      "outputs": [
        {
          "name": "stdout",
          "output_type": "stream",
          "text": [
            "1\n",
            "2\n",
            "3\n",
            "4\n",
            "5\n",
            "6\n",
            "7\n",
            "8\n",
            "9\n",
            "10\n"
          ]
        }
      ],
      "source": [
        "for i in range(1,11):\n",
        "    print(i)"
      ]
    },
    {
      "cell_type": "markdown",
      "metadata": {},
      "source": [
        "#### 3- Teil C++ mit Array  \n",
        "```cpp\n",
        "#include <iostream>  \n",
        "using namespace std;      \n",
        "    \n",
        "int main() {  \n",
        "   int myArray={1, 2, 3, 4, 5};\n",
        "    for(int i=1; i>=10;i++){\n",
        "       cout<<myArray[i]<<endl;\n",
        "    }; \n",
        "    return 0;  \n",
        "}\n",
        "```\n",
        "#### 4- Teil Python"
      ]
    },
    {
      "cell_type": "code",
      "execution_count": 13,
      "metadata": {
        "trusted": true
      },
      "outputs": [
        {
          "name": "stdout",
          "output_type": "stream",
          "text": [
            "1\n",
            "2\n",
            "3\n",
            "4\n",
            "5\n"
          ]
        }
      ],
      "source": [
        "myArray={1, 2, 3, 4, 5};\n",
        "for i in myArray:\n",
        "    print(i)"
      ]
    },
    {
      "cell_type": "markdown",
      "metadata": {},
      "source": [
        "[Zurück zum Verzeichnis](#Verzeichnis)\n",
        "# Switch\n",
        "#### 1- Teil C++\n",
        "```cpp\n",
        "#include <iostream>\n",
        "using namespace std;\n",
        "\n",
        "int main() {\n",
        "    char option;\n",
        "    cout << \"Eine der Operationen +-*/ auswählen: \";\n",
        "    cin >> option;\n",
        "    int x = 2, y = 3;\n",
        "    int result;\n",
        "\n",
        "    switch (option) {\n",
        "        case '+':\n",
        "            result = x + y;\n",
        "            break;\n",
        "        case '*':\n",
        "            result = x * y;\n",
        "            break;\n",
        "        case '-':\n",
        "            result = x - y;\n",
        "            break;\n",
        "        case '/':\n",
        "            result = x / y;\n",
        "            break;\n",
        "        default:\n",
        "            result = 000;\n",
        "            cout << \"Error!\" << endl;\n",
        "    }\n",
        "    cout << \"Ergebnis: \" << result << endl;\n",
        "    return 0;\n",
        "}\n",
        "\n",
        "```\n",
        "#### 2- Teil Python"
      ]
    },
    {
      "cell_type": "code",
      "execution_count": 3,
      "metadata": {},
      "outputs": [
        {
          "name": "stdout",
          "output_type": "stream",
          "text": [
            "result: 5\n"
          ]
        }
      ],
      "source": [
        "option=input(\"Eined der Operationen +-*/ auswählen: \")\n",
        "x=2; y=3\n",
        "match option:\n",
        "    case \"+\":\n",
        "      result=x+y\n",
        "  \n",
        "    case \"*\":\n",
        "      result=x*y\n",
        "\n",
        "    case \"-\":\n",
        "      result=x-y\n",
        "  \n",
        "    case \"/\":\n",
        "      result=x/y\n",
        "  \n",
        "    case _:\n",
        "      result=00000\n",
        "      print(\"Error!\\n\")\n",
        "print(f\"result: {result}\")"
      ]
    },
    {
      "cell_type": "markdown",
      "metadata": {},
      "source": [
        "[Zurück zum Verzeichnis](#Verzeichnis)\n",
        "# Max-Funktion\n",
        "### Zum Finden des maximalen Werts\n",
        "#### 1- Teil C++\n",
        "```cpp\n",
        "#include <iostream>\n",
        "using namespace std;\n",
        "\n",
        "int main() {\n",
        "    int myArray[5] = {12, 56, 34, 89, 17};\n",
        "    int maxValue = myArray[0];\n",
        "    for (int i = 1; i < 5; ++i) {\n",
        "        if (myArray[i] > maxValue) {\n",
        "            maxValue = myArray[i];\n",
        "        }\n",
        "    }\n",
        "    cout << \"The maximum value in the array is: \" << maxValue << endl;\n",
        "    return 0;\n",
        "}\n",
        "```\n",
        "#### 2- Teil Python"
      ]
    },
    {
      "cell_type": "code",
      "execution_count": 14,
      "metadata": {
        "trusted": true
      },
      "outputs": [
        {
          "name": "stdout",
          "output_type": "stream",
          "text": [
            "The maximum value in the array is: 89\n"
          ]
        }
      ],
      "source": [
        "myArray = [12, 56, 34, 89, 17]\n",
        "maxValue = max(myArray)\n",
        "print(\"The maximum value in the array is:\", maxValue)"
      ]
    },
    {
      "cell_type": "markdown",
      "metadata": {},
      "source": [
        "[Zurück zum Verzeichnis](#Verzeichnis)\n",
        "# Min-Funktion\n",
        "### Zum Finden des minimalen Werts\n",
        "#### 1- Teil C++\n",
        "```cpp\n",
        "#include <iostream>\n",
        "using namespace std;\n",
        "\n",
        "int main() {\n",
        "    int myArray[5] = {12, 56, 34, 89, 17};\n",
        "    int minValue = myArray[0];\n",
        "    for (int i = 1; i < 5; ++i) {\n",
        "        if (myArray[i] < minValue) {\n",
        "            minValue = myArray[i];\n",
        "        }\n",
        "    }\n",
        "    cout << \"The minimum value in the array is: \" << minValue << endl;\n",
        "    return 0;\n",
        "}\n",
        "```\n",
        "#### 2- Teil Python"
      ]
    },
    {
      "cell_type": "code",
      "execution_count": 15,
      "metadata": {
        "trusted": true
      },
      "outputs": [
        {
          "name": "stdout",
          "output_type": "stream",
          "text": [
            "The minimum value in the array is: 12\n"
          ]
        }
      ],
      "source": [
        "myArray = [12, 56, 34, 89, 17]\n",
        "minValue = min(myArray)\n",
        "print(\"The minimum value in the array is:\", minValue)"
      ]
    },
    {
      "cell_type": "markdown",
      "metadata": {},
      "source": [
        "[Zurück zum Verzeichnis](#Verzeichnis)\n",
        "# Swap-Funktion\n",
        "#### 1- Teil C++\n",
        "```cpp\n",
        "#include <iostream>\n",
        "using namespace std;\n",
        "\n",
        "void swap(int &a, int &b) {\n",
        "    int temp = a;\n",
        "    a = b;\n",
        "    b = temp; \n",
        "}\n",
        "int main() {\n",
        "    int num1 = 10;\n",
        "    int num2 = 20;\n",
        "    cout << \"Before the swap: num1 = \" << num1 << \", num2 = \" << num2 << endl;\n",
        "    swap(num1, num2);\n",
        "    cout << \"After the swap: num1 = \" << num1 << \", num2 = \" << num2 << endl;\n",
        "    return 0;\n",
        "}\n",
        "\n",
        "```\n",
        "#### 2- Teil Python"
      ]
    },
    {
      "cell_type": "code",
      "execution_count": 20,
      "metadata": {
        "trusted": true
      },
      "outputs": [
        {
          "name": "stdout",
          "output_type": "stream",
          "text": [
            "Before the swap: num1 = 10 , num2 = 20\n",
            "After the swap: num1 = 20 , num2 = 10\n"
          ]
        }
      ],
      "source": [
        "num1 = 10\n",
        "num2 = 20\n",
        "print(\"Before the swap: num1 =\", num1, \", num2 =\", num2)\n",
        "num1, num2 = num2, num1\n",
        "print(\"After the swap: num1 =\", num1, \", num2 =\", num2)"
      ]
    },
    {
      "cell_type": "markdown",
      "metadata": {},
      "source": [
        "[Zurück zum Verzeichnis](#Verzeichnis)\n",
        "# Funktionen\n",
        "#### 1- Teil C++\n",
        "```cpp\n",
        "#include <iostream>\n",
        "using namespace std;\n",
        "\n",
        "int addNumbers(int a, int b) {\n",
        "    int sum = a + b;\n",
        "    return sum;\n",
        "}\n",
        "\n",
        "int main() {\n",
        "    int num1 = 5, num2 = 10;\n",
        "    int result = addNumbers(num1, num2);\n",
        "    cout << \"The sum of \" << num1 << \" and \" << num2 << \" is: \" << result << endl;\n",
        "    return 0;\n",
        "}\n",
        "```\n",
        "#### 2- Teil Python"
      ]
    },
    {
      "cell_type": "code",
      "execution_count": 3,
      "metadata": {
        "trusted": true
      },
      "outputs": [
        {
          "name": "stdout",
          "output_type": "stream",
          "text": [
            "The sum of 5 and 10 is: 15\n"
          ]
        }
      ],
      "source": [
        "def addNumbers(a, b): \n",
        "    sum = a + b\n",
        "    return sum\n",
        "\n",
        "# Hauptprogramm\n",
        "num1 = 5\n",
        "num2 = 10\n",
        "result = addNumbers(num1, num2)\n",
        "print(\"The sum of\", num1, \"and\", num2, \"is:\", result)"
      ]
    },
    {
      "cell_type": "markdown",
      "metadata": {},
      "source": [
        "[Zurück zum Verzeichnis](#Verzeichnis)\n",
        "# Klassen\n",
        "#### 1- Teil C++\n",
        "```cpp\n",
        "#include <iostream>\n",
        "using namespace std;\n",
        "\n",
        "class Shape {\n",
        "public:\n",
        "    Shape() {\n",
        "        cout << \"Shape constructor called.\" << endl;}\n",
        "\n",
        "    virtual double area() const { \n",
        "        return 0.0; }\n",
        "};\n",
        "\n",
        "int main() {\n",
        "    Shape shape;\n",
        "    double area = shape.area();\n",
        "    cout << \"The area of the shape is: \" << area << endl;\n",
        "    return 0;\n",
        "}\n",
        "```\n",
        "#### 2- Teil Python"
      ]
    },
    {
      "cell_type": "code",
      "execution_count": 18,
      "metadata": {
        "trusted": true
      },
      "outputs": [
        {
          "name": "stdout",
          "output_type": "stream",
          "text": [
            "Shape constructor called.\n",
            "The area of the shape is: 0.0\n"
          ]
        }
      ],
      "source": [
        "class Shape:\n",
        "    def __init__(self):\n",
        "        print(\"Shape constructor called.\")\n",
        "        \n",
        "    def area(self):\n",
        "        return 0.0\n",
        "shape = Shape()\n",
        "area = shape.area() \n",
        "print(\"The area of the shape is:\", area)"
      ]
    },
    {
      "cell_type": "markdown",
      "metadata": {},
      "source": [
        "[Zurück zum Verzeichnis](#Verzeichnis)"
      ]
    },
    {
      "cell_type": "markdown",
      "metadata": {},
      "source": [
        "# Konstruktor\n",
        "#### 1- Teil C++\n",
        "```cpp\n",
        "#include <iostream>\n",
        "using namespace std;\n",
        "\n",
        "class Person {\n",
        "public:\n",
        "    Person() {\n",
        "        cout << \"I created a person! It's alive!\" << endl;\n",
        "    }\n",
        "};\n",
        "\n",
        "int main() {\n",
        "    Person manager;\n",
        "    cout << &manager << endl;\n",
        "    return 0;\n",
        "}\n",
        "\n",
        "```\n",
        "#### 2- Teil Python\n",
        "`__init__(self):` dient als Konstruktor in Python und wird sofort ausgeführt, wenn ein Objekt der Klasse ausgelegt wird."
      ]
    },
    {
      "cell_type": "code",
      "execution_count": 1,
      "metadata": {},
      "outputs": [
        {
          "name": "stdout",
          "output_type": "stream",
          "text": [
            "I created a person! It's alive!\n",
            "<__main__.Person object at 0x000001C84AAC9660>\n"
          ]
        }
      ],
      "source": [
        "class Person:\n",
        "    def __init__(self):\n",
        "        print(\"I created a person! It's alive!\")\n",
        "\n",
        "manager = Person()\n",
        "print(manager)"
      ]
    },
    {
      "cell_type": "markdown",
      "metadata": {},
      "source": [
        "[Zurück zum Verzeichnis](#Verzeichnis)"
      ]
    },
    {
      "cell_type": "markdown",
      "metadata": {},
      "source": [
        "# Parameter-Konstuktor\n",
        "#### 1- Teil C++\n",
        "```cpp\n",
        "#include <iostream>\n",
        "#include <string>\n",
        "using namespace std;\n",
        "\n",
        "class Person {\n",
        "public:\n",
        "    string name;\n",
        "    int age;\n",
        "    string nationality;\n",
        "    Person(string name, int age, string nationality = \"uk\") : name(name), age(age), nationality(nationality) {}\n",
        "};\n",
        "\n",
        "int main() {\n",
        "    Person manager(\"Ashraf\", 20, \"malaysia\");\n",
        "    cout << manager.name << endl;\n",
        "    cout << manager.nationality << endl;\n",
        "    manager.age = 24;\n",
        "    cout << manager.age << endl;\n",
        "    return 0;\n",
        "} \n",
        "```\n",
        "#### 2- Teil Python\n",
        "`self` in Python ist ähnlich zu `This` in C++"
      ]
    },
    {
      "cell_type": "code",
      "execution_count": 3,
      "metadata": {},
      "outputs": [
        {
          "name": "stdout",
          "output_type": "stream",
          "text": [
            "Ashraf\n",
            "malaysia\n",
            "24\n"
          ]
        }
      ],
      "source": [
        "class Person:\n",
        "    def __init__(self, name, age, nationality=\"uk\"):\n",
        "        self.name = name\n",
        "        self.age = age\n",
        "        self.nationality = nationality\n",
        "\n",
        "manager = Person(\"Ashraf\", 20, \"malaysia\")\n",
        "print(manager.name)\n",
        "print(manager.nationality)\n",
        "manager.age = 24\n",
        "print(manager.age)"
      ]
    },
    {
      "cell_type": "markdown",
      "metadata": {},
      "source": [
        "[Zurück zum Verzeichnis](#Verzeichnis)"
      ]
    },
    {
      "cell_type": "markdown",
      "metadata": {},
      "source": [
        "# Vererbung\n",
        "#### 1- Teil C++\n",
        "```cpp\n",
        "#include <iostream>\n",
        "#include <string>\n",
        "using namespace std;\n",
        "\n",
        "class GameCharacter {\n",
        "protected:\n",
        "    string name;\n",
        "    int health, strength, defence;\n",
        "public:\n",
        "    GameCharacter(string name, int health = 50, int strength = 30, int defence = 20)\n",
        "        : name(name), health(health), strength(strength), defence(defence) {}\n",
        "};\n",
        "\n",
        "class Villain : public GameCharacter {\n",
        "public:\n",
        "    Villain(string name, int health = 60, int strength = 30, int defence = 20, int evilness = 50)\n",
        "        : GameCharacter(name, health, strength, defence), evilness(evilness) {}\n",
        "\n",
        "int main() {\n",
        "    GameCharacter boy(\"Boy\", 100, 20, 10);\n",
        "    Villain evilman(\"Voldemort\", 30, 50, 40, 100);\n",
        "    cout << boy.getHealth() << endl;\n",
        "    cout << evilman.getHealth() << endl;\n",
        "    return 0;\n",
        "}\n",
        "```\n",
        "#### 2- Teil Python"
      ]
    },
    {
      "cell_type": "code",
      "execution_count": 7,
      "metadata": {},
      "outputs": [
        {
          "name": "stdout",
          "output_type": "stream",
          "text": [
            "100\n",
            "30\n"
          ]
        }
      ],
      "source": [
        "class GameCharacter:\n",
        "    def __init__(self, name, health=50, strength=30, defence=20):\n",
        "        self.name = name\n",
        "        self.health = health\n",
        "        self.strength = strength\n",
        "        self.defence = defence\n",
        "\n",
        "class Villain(GameCharacter):\n",
        "    def __init__(self, name, health=60, strength=30, defence=20, evilness=50):\n",
        "        super().__init__(name, health, strength, defence)\n",
        "        self.evilness = 50\n",
        "\n",
        "boy = GameCharacter(\"Boy\", 100, 20, 10)\n",
        "evilman = Villain(\"Voldemort\", 30, 50, 40, 100)\n",
        "print(boy.health)\n",
        "print(evilman.health)"
      ]
    },
    {
      "cell_type": "markdown",
      "metadata": {},
      "source": [
        "[Zurück zum Verzeichnis](#Verzeichnis)"
      ]
    },
    {
      "cell_type": "markdown",
      "metadata": {},
      "source": [
        "# Verkapselung\n",
        "#### 1- Teil C++\n",
        "```cpp\n",
        "#include <iostream>\n",
        "#include <string>\n",
        "using namespace std;\n",
        "\n",
        "class Person {\n",
        "private:\n",
        "    int age;\n",
        "public:\n",
        "    string name;\n",
        "    Person(string name, int age) : name(name), age(age) {}\n",
        "    int getAge() { return age; }\n",
        "};\n",
        "int main() {\n",
        "    Person person(\"John Doe\", 30);\n",
        "    cout << \"Age: \" << person.getAge() << endl;\n",
        "    return 0;\n",
        "}\n",
        "```\n",
        "#### 2- Teil Python"
      ]
    },
    {
      "cell_type": "code",
      "execution_count": 9,
      "metadata": {},
      "outputs": [
        {
          "name": "stdout",
          "output_type": "stream",
          "text": [
            "Name: John Doe\n",
            "Age: 30\n"
          ]
        }
      ],
      "source": [
        "class Person:\n",
        "    def __init__(self, name, age=18):\n",
        "        self.name = name\n",
        "        self.__age = age\n",
        "        \n",
        "    def get_age(self):\n",
        "        return self.__age\n",
        "person = Person(\"John Doe\", 30)\n",
        "print(\"Name:\", person.name)\n",
        "print(\"Age:\", person.get_age())"
      ]
    },
    {
      "cell_type": "markdown",
      "metadata": {},
      "source": [
        "[Zurück zum Verzeichnis](#Verzeichnis)"
      ]
    }
  ],
  "metadata": {
    "colab": {
      "authorship_tag": "ABX9TyNCN9aN0Q1glU4ix8CPJtSd",
      "gpuType": "T4",
      "include_colab_link": true,
      "provenance": [],
      "toc_visible": true
    },
    "kernelspec": {
      "display_name": "Python 3",
      "name": "python3"
    },
    "language_info": {
      "codemirror_mode": {
        "name": "ipython",
        "version": 3
      },
      "file_extension": ".py",
      "mimetype": "text/x-python",
      "name": "python",
      "nbconvert_exporter": "python",
      "pygments_lexer": "ipython3",
      "version": "3.10.8"
    }
  },
  "nbformat": 4,
  "nbformat_minor": 0
}
